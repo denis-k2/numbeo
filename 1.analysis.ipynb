{
 "cells": [
  {
   "cell_type": "markdown",
   "metadata": {},
   "source": [
    "# Extract. Transform. Analysis."
   ]
  },
  {
   "cell_type": "code",
   "execution_count": 1,
   "metadata": {},
   "outputs": [],
   "source": [
    "import pandas as pd\n",
    "import requests\n",
    "import country_converter as coco\n",
    "from bs4 import BeautifulSoup\n",
    "import folium"
   ]
  },
  {
   "cell_type": "markdown",
   "metadata": {},
   "source": [
    "### Extract"
   ]
  },
  {
   "cell_type": "markdown",
   "metadata": {},
   "source": [
    "За основу беру таблицу Numbeo \"Current Cost of Living Index\", в котором на данный момент 506 городов и, пока, не понятно сколько стран и по сколько городов в этих странах."
   ]
  },
  {
   "cell_type": "code",
   "execution_count": 2,
   "metadata": {},
   "outputs": [
    {
     "data": {
      "text/html": [
       "<div>\n",
       "<style scoped>\n",
       "    .dataframe tbody tr th:only-of-type {\n",
       "        vertical-align: middle;\n",
       "    }\n",
       "\n",
       "    .dataframe tbody tr th {\n",
       "        vertical-align: top;\n",
       "    }\n",
       "\n",
       "    .dataframe thead th {\n",
       "        text-align: right;\n",
       "    }\n",
       "</style>\n",
       "<table border=\"1\" class=\"dataframe\">\n",
       "  <thead>\n",
       "    <tr style=\"text-align: right;\">\n",
       "      <th></th>\n",
       "      <th>Rank</th>\n",
       "      <th>City</th>\n",
       "      <th>Cost of Living Index</th>\n",
       "      <th>Rent Index</th>\n",
       "      <th>Cost of Living Plus Rent Index</th>\n",
       "      <th>Groceries Index</th>\n",
       "      <th>Restaurant Price Index</th>\n",
       "      <th>Local Purchasing Power Index</th>\n",
       "    </tr>\n",
       "  </thead>\n",
       "  <tbody>\n",
       "    <tr>\n",
       "      <th>0</th>\n",
       "      <td>NaN</td>\n",
       "      <td>Hamilton, Bermuda</td>\n",
       "      <td>161.36</td>\n",
       "      <td>102.29</td>\n",
       "      <td>133.41</td>\n",
       "      <td>167.32</td>\n",
       "      <td>147.19</td>\n",
       "      <td>88.42</td>\n",
       "    </tr>\n",
       "    <tr>\n",
       "      <th>1</th>\n",
       "      <td>NaN</td>\n",
       "      <td>Zurich, Switzerland</td>\n",
       "      <td>121.25</td>\n",
       "      <td>61.89</td>\n",
       "      <td>93.17</td>\n",
       "      <td>122.95</td>\n",
       "      <td>115.77</td>\n",
       "      <td>115.64</td>\n",
       "    </tr>\n",
       "    <tr>\n",
       "      <th>2</th>\n",
       "      <td>NaN</td>\n",
       "      <td>Basel, Switzerland</td>\n",
       "      <td>119.82</td>\n",
       "      <td>45.46</td>\n",
       "      <td>84.64</td>\n",
       "      <td>125.54</td>\n",
       "      <td>114.14</td>\n",
       "      <td>109.13</td>\n",
       "    </tr>\n",
       "    <tr>\n",
       "      <th>3</th>\n",
       "      <td>NaN</td>\n",
       "      <td>Zug, Switzerland</td>\n",
       "      <td>118.68</td>\n",
       "      <td>64.27</td>\n",
       "      <td>92.94</td>\n",
       "      <td>120.79</td>\n",
       "      <td>118.36</td>\n",
       "      <td>136.38</td>\n",
       "    </tr>\n",
       "    <tr>\n",
       "      <th>4</th>\n",
       "      <td>NaN</td>\n",
       "      <td>Bern, Switzerland</td>\n",
       "      <td>113.85</td>\n",
       "      <td>36.83</td>\n",
       "      <td>77.41</td>\n",
       "      <td>115.93</td>\n",
       "      <td>106.74</td>\n",
       "      <td>116.09</td>\n",
       "    </tr>\n",
       "  </tbody>\n",
       "</table>\n",
       "</div>"
      ],
      "text/plain": [
       "   Rank                 City  Cost of Living Index  Rent Index  \\\n",
       "0   NaN    Hamilton, Bermuda                161.36      102.29   \n",
       "1   NaN  Zurich, Switzerland                121.25       61.89   \n",
       "2   NaN   Basel, Switzerland                119.82       45.46   \n",
       "3   NaN     Zug, Switzerland                118.68       64.27   \n",
       "4   NaN    Bern, Switzerland                113.85       36.83   \n",
       "\n",
       "   Cost of Living Plus Rent Index  Groceries Index  Restaurant Price Index  \\\n",
       "0                          133.41           167.32                  147.19   \n",
       "1                           93.17           122.95                  115.77   \n",
       "2                           84.64           125.54                  114.14   \n",
       "3                           92.94           120.79                  118.36   \n",
       "4                           77.41           115.93                  106.74   \n",
       "\n",
       "   Local Purchasing Power Index  \n",
       "0                         88.42  \n",
       "1                        115.64  \n",
       "2                        109.13  \n",
       "3                        136.38  \n",
       "4                        116.09  "
      ]
     },
     "execution_count": 2,
     "metadata": {},
     "output_type": "execute_result"
    }
   ],
   "source": [
    "url = 'https://www.numbeo.com/cost-of-living/rankings_current.jsp'\n",
    "df = pd.read_html(url)[1]\n",
    "df.head()"
   ]
  },
  {
   "cell_type": "markdown",
   "metadata": {},
   "source": [
    "### Transform"
   ]
  },
  {
   "cell_type": "code",
   "execution_count": 3,
   "metadata": {},
   "outputs": [],
   "source": [
    "df.drop('Rank', axis=1, inplace=True)"
   ]
  },
  {
   "cell_type": "markdown",
   "metadata": {},
   "source": [
    "Добавляю в таблицу ссылки на страницы данных городов со строгим указанием валюты USD"
   ]
  },
  {
   "cell_type": "code",
   "execution_count": 4,
   "metadata": {},
   "outputs": [],
   "source": [
    "response = requests.get(url).text\n",
    "soup = BeautifulSoup(response, 'lxml')\n",
    "links = soup.find_all('td', class_='cityOrCountryInIndicesTable')\n",
    "\n",
    "href_list = []\n",
    "for i in links:\n",
    "    href_list.append([i.find('a').text, i.find('a').get('href') + '?displayCurrency=USD'])\n",
    "    \n",
    "city_link = pd.DataFrame(href_list, columns=['City', 'link'])\n",
    "\n",
    "df = df.merge(city_link, on='City', how='left')"
   ]
  },
  {
   "cell_type": "markdown",
   "metadata": {},
   "source": [
    "### Разделить Город - Штат - Страна"
   ]
  },
  {
   "cell_type": "code",
   "execution_count": 5,
   "metadata": {},
   "outputs": [],
   "source": [
    "split_table1 = df['City'].str.rsplit(', ', n=1, expand=True)\n",
    "split_table1.columns=['city_state', 'country']\n",
    "\n",
    "split_table2 = split_table1['city_state'].str.split(', ', n=1, expand=True)\n",
    "split_table2.columns=['city', 'state']\n",
    "\n",
    "df = pd.concat([split_table2, split_table1['country'], df],axis=1)\n",
    "\n",
    "df['city'] = df.apply(lambda row: row.city.split(' (')[0], axis = 1) #убираю дубли городов в скобках"
   ]
  },
  {
   "cell_type": "code",
   "execution_count": 6,
   "metadata": {},
   "outputs": [
    {
     "data": {
      "text/html": [
       "<div>\n",
       "<style scoped>\n",
       "    .dataframe tbody tr th:only-of-type {\n",
       "        vertical-align: middle;\n",
       "    }\n",
       "\n",
       "    .dataframe tbody tr th {\n",
       "        vertical-align: top;\n",
       "    }\n",
       "\n",
       "    .dataframe thead th {\n",
       "        text-align: right;\n",
       "    }\n",
       "</style>\n",
       "<table border=\"1\" class=\"dataframe\">\n",
       "  <thead>\n",
       "    <tr style=\"text-align: right;\">\n",
       "      <th></th>\n",
       "      <th>city</th>\n",
       "      <th>state</th>\n",
       "      <th>country</th>\n",
       "      <th>City</th>\n",
       "      <th>Cost of Living Index</th>\n",
       "      <th>Rent Index</th>\n",
       "      <th>Cost of Living Plus Rent Index</th>\n",
       "      <th>Groceries Index</th>\n",
       "      <th>Restaurant Price Index</th>\n",
       "      <th>Local Purchasing Power Index</th>\n",
       "      <th>link</th>\n",
       "    </tr>\n",
       "  </thead>\n",
       "  <tbody>\n",
       "    <tr>\n",
       "      <th>0</th>\n",
       "      <td>Hamilton</td>\n",
       "      <td>None</td>\n",
       "      <td>Bermuda</td>\n",
       "      <td>Hamilton, Bermuda</td>\n",
       "      <td>161.36</td>\n",
       "      <td>102.29</td>\n",
       "      <td>133.41</td>\n",
       "      <td>167.32</td>\n",
       "      <td>147.19</td>\n",
       "      <td>88.42</td>\n",
       "      <td>https://www.numbeo.com/cost-of-living/in/Hamil...</td>\n",
       "    </tr>\n",
       "    <tr>\n",
       "      <th>1</th>\n",
       "      <td>Zurich</td>\n",
       "      <td>None</td>\n",
       "      <td>Switzerland</td>\n",
       "      <td>Zurich, Switzerland</td>\n",
       "      <td>121.25</td>\n",
       "      <td>61.89</td>\n",
       "      <td>93.17</td>\n",
       "      <td>122.95</td>\n",
       "      <td>115.77</td>\n",
       "      <td>115.64</td>\n",
       "      <td>https://www.numbeo.com/cost-of-living/in/Zuric...</td>\n",
       "    </tr>\n",
       "    <tr>\n",
       "      <th>2</th>\n",
       "      <td>Basel</td>\n",
       "      <td>None</td>\n",
       "      <td>Switzerland</td>\n",
       "      <td>Basel, Switzerland</td>\n",
       "      <td>119.82</td>\n",
       "      <td>45.46</td>\n",
       "      <td>84.64</td>\n",
       "      <td>125.54</td>\n",
       "      <td>114.14</td>\n",
       "      <td>109.13</td>\n",
       "      <td>https://www.numbeo.com/cost-of-living/in/Basel...</td>\n",
       "    </tr>\n",
       "    <tr>\n",
       "      <th>3</th>\n",
       "      <td>Zug</td>\n",
       "      <td>None</td>\n",
       "      <td>Switzerland</td>\n",
       "      <td>Zug, Switzerland</td>\n",
       "      <td>118.68</td>\n",
       "      <td>64.27</td>\n",
       "      <td>92.94</td>\n",
       "      <td>120.79</td>\n",
       "      <td>118.36</td>\n",
       "      <td>136.38</td>\n",
       "      <td>https://www.numbeo.com/cost-of-living/in/Zug?d...</td>\n",
       "    </tr>\n",
       "    <tr>\n",
       "      <th>4</th>\n",
       "      <td>Bern</td>\n",
       "      <td>None</td>\n",
       "      <td>Switzerland</td>\n",
       "      <td>Bern, Switzerland</td>\n",
       "      <td>113.85</td>\n",
       "      <td>36.83</td>\n",
       "      <td>77.41</td>\n",
       "      <td>115.93</td>\n",
       "      <td>106.74</td>\n",
       "      <td>116.09</td>\n",
       "      <td>https://www.numbeo.com/cost-of-living/in/Bern?...</td>\n",
       "    </tr>\n",
       "  </tbody>\n",
       "</table>\n",
       "</div>"
      ],
      "text/plain": [
       "       city state      country                 City  Cost of Living Index  \\\n",
       "0  Hamilton  None      Bermuda    Hamilton, Bermuda                161.36   \n",
       "1    Zurich  None  Switzerland  Zurich, Switzerland                121.25   \n",
       "2     Basel  None  Switzerland   Basel, Switzerland                119.82   \n",
       "3       Zug  None  Switzerland     Zug, Switzerland                118.68   \n",
       "4      Bern  None  Switzerland    Bern, Switzerland                113.85   \n",
       "\n",
       "   Rent Index  Cost of Living Plus Rent Index  Groceries Index  \\\n",
       "0      102.29                          133.41           167.32   \n",
       "1       61.89                           93.17           122.95   \n",
       "2       45.46                           84.64           125.54   \n",
       "3       64.27                           92.94           120.79   \n",
       "4       36.83                           77.41           115.93   \n",
       "\n",
       "   Restaurant Price Index  Local Purchasing Power Index  \\\n",
       "0                  147.19                         88.42   \n",
       "1                  115.77                        115.64   \n",
       "2                  114.14                        109.13   \n",
       "3                  118.36                        136.38   \n",
       "4                  106.74                        116.09   \n",
       "\n",
       "                                                link  \n",
       "0  https://www.numbeo.com/cost-of-living/in/Hamil...  \n",
       "1  https://www.numbeo.com/cost-of-living/in/Zuric...  \n",
       "2  https://www.numbeo.com/cost-of-living/in/Basel...  \n",
       "3  https://www.numbeo.com/cost-of-living/in/Zug?d...  \n",
       "4  https://www.numbeo.com/cost-of-living/in/Bern?...  "
      ]
     },
     "execution_count": 6,
     "metadata": {},
     "output_type": "execute_result"
    }
   ],
   "source": [
    "df.head()"
   ]
  },
  {
   "cell_type": "markdown",
   "metadata": {},
   "source": [
    "### Добавляю alpha_3 код к странам\n",
    "Добавляю через lambda к каждой строке. Не самый эффективный вариант, обрабатывается капждая строка, страны дублируются, но просто попробовать (merge уже был)."
   ]
  },
  {
   "cell_type": "code",
   "execution_count": 7,
   "metadata": {},
   "outputs": [
    {
     "data": {
      "text/html": [
       "<div>\n",
       "<style scoped>\n",
       "    .dataframe tbody tr th:only-of-type {\n",
       "        vertical-align: middle;\n",
       "    }\n",
       "\n",
       "    .dataframe tbody tr th {\n",
       "        vertical-align: top;\n",
       "    }\n",
       "\n",
       "    .dataframe thead th {\n",
       "        text-align: right;\n",
       "    }\n",
       "</style>\n",
       "<table border=\"1\" class=\"dataframe\">\n",
       "  <thead>\n",
       "    <tr style=\"text-align: right;\">\n",
       "      <th></th>\n",
       "      <th>city</th>\n",
       "      <th>state</th>\n",
       "      <th>country</th>\n",
       "      <th>City</th>\n",
       "      <th>Cost of Living Index</th>\n",
       "      <th>Rent Index</th>\n",
       "      <th>Cost of Living Plus Rent Index</th>\n",
       "      <th>Groceries Index</th>\n",
       "      <th>Restaurant Price Index</th>\n",
       "      <th>Local Purchasing Power Index</th>\n",
       "      <th>link</th>\n",
       "      <th>country_code</th>\n",
       "    </tr>\n",
       "  </thead>\n",
       "  <tbody>\n",
       "    <tr>\n",
       "      <th>0</th>\n",
       "      <td>Hamilton</td>\n",
       "      <td>None</td>\n",
       "      <td>Bermuda</td>\n",
       "      <td>Hamilton, Bermuda</td>\n",
       "      <td>161.36</td>\n",
       "      <td>102.29</td>\n",
       "      <td>133.41</td>\n",
       "      <td>167.32</td>\n",
       "      <td>147.19</td>\n",
       "      <td>88.42</td>\n",
       "      <td>https://www.numbeo.com/cost-of-living/in/Hamil...</td>\n",
       "      <td>BMU</td>\n",
       "    </tr>\n",
       "    <tr>\n",
       "      <th>1</th>\n",
       "      <td>Zurich</td>\n",
       "      <td>None</td>\n",
       "      <td>Switzerland</td>\n",
       "      <td>Zurich, Switzerland</td>\n",
       "      <td>121.25</td>\n",
       "      <td>61.89</td>\n",
       "      <td>93.17</td>\n",
       "      <td>122.95</td>\n",
       "      <td>115.77</td>\n",
       "      <td>115.64</td>\n",
       "      <td>https://www.numbeo.com/cost-of-living/in/Zuric...</td>\n",
       "      <td>CHE</td>\n",
       "    </tr>\n",
       "    <tr>\n",
       "      <th>2</th>\n",
       "      <td>Basel</td>\n",
       "      <td>None</td>\n",
       "      <td>Switzerland</td>\n",
       "      <td>Basel, Switzerland</td>\n",
       "      <td>119.82</td>\n",
       "      <td>45.46</td>\n",
       "      <td>84.64</td>\n",
       "      <td>125.54</td>\n",
       "      <td>114.14</td>\n",
       "      <td>109.13</td>\n",
       "      <td>https://www.numbeo.com/cost-of-living/in/Basel...</td>\n",
       "      <td>CHE</td>\n",
       "    </tr>\n",
       "  </tbody>\n",
       "</table>\n",
       "</div>"
      ],
      "text/plain": [
       "       city state      country                 City  Cost of Living Index  \\\n",
       "0  Hamilton  None      Bermuda    Hamilton, Bermuda                161.36   \n",
       "1    Zurich  None  Switzerland  Zurich, Switzerland                121.25   \n",
       "2     Basel  None  Switzerland   Basel, Switzerland                119.82   \n",
       "\n",
       "   Rent Index  Cost of Living Plus Rent Index  Groceries Index  \\\n",
       "0      102.29                          133.41           167.32   \n",
       "1       61.89                           93.17           122.95   \n",
       "2       45.46                           84.64           125.54   \n",
       "\n",
       "   Restaurant Price Index  Local Purchasing Power Index  \\\n",
       "0                  147.19                         88.42   \n",
       "1                  115.77                        115.64   \n",
       "2                  114.14                        109.13   \n",
       "\n",
       "                                                link country_code  \n",
       "0  https://www.numbeo.com/cost-of-living/in/Hamil...          BMU  \n",
       "1  https://www.numbeo.com/cost-of-living/in/Zuric...          CHE  \n",
       "2  https://www.numbeo.com/cost-of-living/in/Basel...          CHE  "
      ]
     },
     "execution_count": 7,
     "metadata": {},
     "output_type": "execute_result"
    }
   ],
   "source": [
    "df['country_code'] = df.apply(lambda row: coco.convert(names=row.country, to='ISO3') , axis = 1)\n",
    "df.head(3)"
   ]
  },
  {
   "cell_type": "markdown",
   "metadata": {},
   "source": [
    "### Добавляю код к штатам USA\n",
    "Есть три значения штатов, не относящихся к штатам США.\n",
    "Всем этим значениям присвою знанчение None.\n",
    "А к штатам США добавлю \"US- \" - приведу к ISO стандарту обозначения штатов США."
   ]
  },
  {
   "cell_type": "code",
   "execution_count": 8,
   "metadata": {},
   "outputs": [
    {
     "data": {
      "text/html": [
       "<div>\n",
       "<style scoped>\n",
       "    .dataframe tbody tr th:only-of-type {\n",
       "        vertical-align: middle;\n",
       "    }\n",
       "\n",
       "    .dataframe tbody tr th {\n",
       "        vertical-align: top;\n",
       "    }\n",
       "\n",
       "    .dataframe thead th {\n",
       "        text-align: right;\n",
       "    }\n",
       "</style>\n",
       "<table border=\"1\" class=\"dataframe\">\n",
       "  <thead>\n",
       "    <tr style=\"text-align: right;\">\n",
       "      <th></th>\n",
       "      <th>city</th>\n",
       "      <th>state</th>\n",
       "      <th>country</th>\n",
       "      <th>City</th>\n",
       "      <th>Cost of Living Index</th>\n",
       "      <th>Rent Index</th>\n",
       "      <th>Cost of Living Plus Rent Index</th>\n",
       "      <th>Groceries Index</th>\n",
       "      <th>Restaurant Price Index</th>\n",
       "      <th>Local Purchasing Power Index</th>\n",
       "      <th>link</th>\n",
       "      <th>country_code</th>\n",
       "    </tr>\n",
       "  </thead>\n",
       "  <tbody>\n",
       "    <tr>\n",
       "      <th>54</th>\n",
       "      <td>Nanaimo</td>\n",
       "      <td>BC</td>\n",
       "      <td>Canada</td>\n",
       "      <td>Nanaimo, BC, Canada</td>\n",
       "      <td>77.47</td>\n",
       "      <td>37.20</td>\n",
       "      <td>58.42</td>\n",
       "      <td>81.15</td>\n",
       "      <td>66.41</td>\n",
       "      <td>90.51</td>\n",
       "      <td>https://www.numbeo.com/cost-of-living/in/Nanai...</td>\n",
       "      <td>CAN</td>\n",
       "    </tr>\n",
       "    <tr>\n",
       "      <th>73</th>\n",
       "      <td>St. John's</td>\n",
       "      <td>Newfoundland and Labrador</td>\n",
       "      <td>Canada</td>\n",
       "      <td>St. John's, Newfoundland and Labrador, Canada</td>\n",
       "      <td>75.16</td>\n",
       "      <td>22.95</td>\n",
       "      <td>50.46</td>\n",
       "      <td>74.43</td>\n",
       "      <td>71.00</td>\n",
       "      <td>141.04</td>\n",
       "      <td>https://www.numbeo.com/cost-of-living/in/St-Jo...</td>\n",
       "      <td>CAN</td>\n",
       "    </tr>\n",
       "    <tr>\n",
       "      <th>452</th>\n",
       "      <td>Batumi</td>\n",
       "      <td>Ajara</td>\n",
       "      <td>Georgia</td>\n",
       "      <td>Batumi, Ajara, Georgia</td>\n",
       "      <td>32.25</td>\n",
       "      <td>12.79</td>\n",
       "      <td>23.04</td>\n",
       "      <td>31.50</td>\n",
       "      <td>27.24</td>\n",
       "      <td>26.18</td>\n",
       "      <td>https://www.numbeo.com/cost-of-living/in/Batum...</td>\n",
       "      <td>GEO</td>\n",
       "    </tr>\n",
       "  </tbody>\n",
       "</table>\n",
       "</div>"
      ],
      "text/plain": [
       "           city                      state  country  \\\n",
       "54      Nanaimo                         BC   Canada   \n",
       "73   St. John's  Newfoundland and Labrador   Canada   \n",
       "452      Batumi                      Ajara  Georgia   \n",
       "\n",
       "                                              City  Cost of Living Index  \\\n",
       "54                             Nanaimo, BC, Canada                 77.47   \n",
       "73   St. John's, Newfoundland and Labrador, Canada                 75.16   \n",
       "452                         Batumi, Ajara, Georgia                 32.25   \n",
       "\n",
       "     Rent Index  Cost of Living Plus Rent Index  Groceries Index  \\\n",
       "54        37.20                           58.42            81.15   \n",
       "73        22.95                           50.46            74.43   \n",
       "452       12.79                           23.04            31.50   \n",
       "\n",
       "     Restaurant Price Index  Local Purchasing Power Index  \\\n",
       "54                    66.41                         90.51   \n",
       "73                    71.00                        141.04   \n",
       "452                   27.24                         26.18   \n",
       "\n",
       "                                                  link country_code  \n",
       "54   https://www.numbeo.com/cost-of-living/in/Nanai...          CAN  \n",
       "73   https://www.numbeo.com/cost-of-living/in/St-Jo...          CAN  \n",
       "452  https://www.numbeo.com/cost-of-living/in/Batum...          GEO  "
      ]
     },
     "execution_count": 8,
     "metadata": {},
     "output_type": "execute_result"
    }
   ],
   "source": [
    "df[df['state'].notnull() & (df['country'] != \"United States\")]"
   ]
  },
  {
   "cell_type": "code",
   "execution_count": 9,
   "metadata": {},
   "outputs": [],
   "source": [
    "indexes = df[df['state'].notnull() & (df['country'] != \"United States\")]['state'].index\n",
    "df.loc[indexes, 'state'] = None\n",
    "\n",
    "df['state'] = df.apply(lambda row: f\"US-{row['state']}\" if row['state'] != None else None, axis = 1)"
   ]
  },
  {
   "cell_type": "markdown",
   "metadata": {},
   "source": [
    "# Карта\n",
    "В индексе Numbeo 505 городов, но не понятно, какие страны, много их или мало. Сколько городов в этих странах и в каких пропорциях. Суммарные цифры мне мало что скажут, гораздо понятнее будет отобразить их на карте."
   ]
  },
  {
   "cell_type": "code",
   "execution_count": 10,
   "metadata": {},
   "outputs": [
    {
     "data": {
      "text/plain": [
       "<folium.features.Choropleth at 0x7f2b8e5c3e80>"
      ]
     },
     "execution_count": 10,
     "metadata": {},
     "output_type": "execute_result"
    }
   ],
   "source": [
    "map_df = df.groupby('country_code')['city'].nunique().reset_index().sort_values('city', ascending=False)\n",
    "\n",
    "m = folium.Map(location=[37.87820990704326, 6.555063556986549], zoom_start=1.5)\n",
    "folium.Choropleth(\n",
    "    geo_data='data/world.geojson',\n",
    "    name=\"choropleth\",\n",
    "    data=map_df,\n",
    "    columns=['country_code', 'city'],\n",
    "    key_on=\"feature.properties.ISO_A3\", \n",
    "    fill_color=\"YlGn\",\n",
    "    nan_fill_color='pink',\n",
    "    fill_opacity=0.8,\n",
    "    bins=7,\n",
    "    reset=True,\n",
    "    highlight=True,\n",
    "    legend_name='Count of cities'\n",
    ").add_to(m)"
   ]
  },
  {
   "cell_type": "markdown",
   "metadata": {},
   "source": [
    "![title](data/map.png)"
   ]
  },
  {
   "cell_type": "markdown",
   "metadata": {},
   "source": [
    "На github интерактивная карта не отображается, поэтому вместо вывода карты, вставил картинку.\n",
    "\n",
    "Теперь видно какие страны есть в индексе, а каких нет, и сколько городов в каждой стране. Меня всё устраивает, вот только мне не нужно в Индии так много городов. Удалю лишние (оставлю 2)."
   ]
  },
  {
   "cell_type": "code",
   "execution_count": 11,
   "metadata": {},
   "outputs": [],
   "source": [
    "india = df.loc[(df['country'] == 'India') & \n",
    "              (df['city'] != 'Delhi') & \n",
    "              (df['city'] !='Mumbai')]\n",
    "\n",
    "df = df.drop(india.index)"
   ]
  },
  {
   "cell_type": "markdown",
   "metadata": {},
   "source": [
    "Подготовлю (индексы), чтобы проще было загрузить данные в БД, и сохраню эту таблицу, чтобы потом с нее по каждому городу скрапить данные в БД."
   ]
  },
  {
   "cell_type": "code",
   "execution_count": 12,
   "metadata": {},
   "outputs": [],
   "source": [
    "df.reset_index(drop=True, inplace=True)\n",
    "df.index += 1\n",
    "df.index.name = 'city_id'\n",
    "\n",
    "df.to_csv(\"data/numbeo_main_table.csv\")"
   ]
  },
  {
   "cell_type": "markdown",
   "metadata": {},
   "source": [
    "# Таблица всех штатов США в формате ISO\n",
    "Достану из википедии и сохраню таблицу кодов штатов США, тк это уже готовая таблица для будущей базы данных."
   ]
  },
  {
   "cell_type": "code",
   "execution_count": 13,
   "metadata": {},
   "outputs": [],
   "source": [
    "url_states = 'https://en.wikipedia.org/wiki/ISO_3166-2:US'\n",
    "\n",
    "df_states = pd.read_html(url_states)[0]\n",
    "\n",
    "df_states.columns = ['state_code', 'state_name', 'category']\n",
    "df_states.set_index('state_code', inplace=True)\n",
    "\n",
    "df_states.to_csv(\"data/states_codes.csv\")"
   ]
  },
  {
   "cell_type": "markdown",
   "metadata": {},
   "source": [
    "# Таблица всех стран и кодов"
   ]
  },
  {
   "cell_type": "code",
   "execution_count": 14,
   "metadata": {},
   "outputs": [],
   "source": [
    "url_countries = 'https://en.wikipedia.org/wiki/ISO_3166-1'\n",
    "\n",
    "df_countries = pd.read_html(url_countries)[1]\n",
    "df_countries.rename(columns={'English short name (using title case)': 'country', \n",
    "                             'Alpha-3 code': 'country_code', \n",
    "                             'Independent': 'independent'}, inplace=True)\n",
    "df_countries = df_countries.iloc[:, [0, 2, 5]]\n",
    "df_countries.set_index('country_code', inplace=True)\n",
    "\n",
    "for index, row in df_countries.iterrows():\n",
    "    if index != 'VGB' and index != 'VIR':\n",
    "        row['country'] = row['country'].strip('\"')\n",
    "        row['country'] = row['country'].split(' (')[0]\n",
    "        row['country'] = row['country'].split('[')[0]\n",
    "        row['country'] = row['country'].split(',')[0]\n",
    "        \n",
    "df_countries.to_csv(\"data/countries_codes.csv\")"
   ]
  },
  {
   "cell_type": "code",
   "execution_count": null,
   "metadata": {},
   "outputs": [],
   "source": []
  }
 ],
 "metadata": {
  "interpreter": {
   "hash": "215f6ffd912e484aecedcbe69ead8fcc91bb6fb306f5595349f9df64c4c4bf6b"
  },
  "kernelspec": {
   "display_name": "Python 3.10.4 ('.venv': venv)",
   "language": "python",
   "name": "python3"
  },
  "language_info": {
   "codemirror_mode": {
    "name": "ipython",
    "version": 3
   },
   "file_extension": ".py",
   "mimetype": "text/x-python",
   "name": "python",
   "nbconvert_exporter": "python",
   "pygments_lexer": "ipython3",
   "version": "3.10.4"
  },
  "orig_nbformat": 4
 },
 "nbformat": 4,
 "nbformat_minor": 2
}
