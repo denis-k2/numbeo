{
 "cells": [
  {
   "cell_type": "code",
   "execution_count": 1,
   "metadata": {},
   "outputs": [],
   "source": [
    "from os import getenv\n",
    "from datetime import date\n",
    "\n",
    "import pandas as pd\n",
    "import requests\n",
    "import country_converter as coco\n",
    "import folium\n",
    "from bs4 import BeautifulSoup\n",
    "from sqlalchemy import create_engine"
   ]
  },
  {
   "cell_type": "code",
   "execution_count": 2,
   "metadata": {},
   "outputs": [],
   "source": [
    "engine = create_engine(getenv('POSTGRES_CONN'))"
   ]
  },
  {
   "cell_type": "markdown",
   "metadata": {},
   "source": [
    "# I get it from Wikipedia and save country codes and the U.S. state codes tables in the database.\n",
    "And make those codes the primary keys."
   ]
  },
  {
   "cell_type": "markdown",
   "metadata": {},
   "source": [
    "### Table of all countries and Alpha 3 codes"
   ]
  },
  {
   "cell_type": "code",
   "execution_count": 3,
   "metadata": {},
   "outputs": [
    {
     "data": {
      "text/html": [
       "<div>\n",
       "<style scoped>\n",
       "    .dataframe tbody tr th:only-of-type {\n",
       "        vertical-align: middle;\n",
       "    }\n",
       "\n",
       "    .dataframe tbody tr th {\n",
       "        vertical-align: top;\n",
       "    }\n",
       "\n",
       "    .dataframe thead th {\n",
       "        text-align: right;\n",
       "    }\n",
       "</style>\n",
       "<table border=\"1\" class=\"dataframe\">\n",
       "  <thead>\n",
       "    <tr style=\"text-align: right;\">\n",
       "      <th></th>\n",
       "      <th>country_code</th>\n",
       "      <th>country</th>\n",
       "      <th>independent</th>\n",
       "    </tr>\n",
       "  </thead>\n",
       "  <tbody>\n",
       "    <tr>\n",
       "      <th>0</th>\n",
       "      <td>AFG</td>\n",
       "      <td>Afghanistan</td>\n",
       "      <td>Yes</td>\n",
       "    </tr>\n",
       "    <tr>\n",
       "      <th>1</th>\n",
       "      <td>ALA</td>\n",
       "      <td>Åland Islands</td>\n",
       "      <td>No</td>\n",
       "    </tr>\n",
       "  </tbody>\n",
       "</table>\n",
       "</div>"
      ],
      "text/plain": [
       "  country_code        country independent\n",
       "0          AFG    Afghanistan         Yes\n",
       "1          ALA  Åland Islands          No"
      ]
     },
     "execution_count": 3,
     "metadata": {},
     "output_type": "execute_result"
    }
   ],
   "source": [
    "url_countries = 'https://en.wikipedia.org/wiki/ISO_3166-1'\n",
    "\n",
    "df_countries = pd.read_html(url_countries)[1]\n",
    "df_countries.rename(columns={'English short name (using title case)': 'country', \n",
    "                             'Alpha-3 code': 'country_code', \n",
    "                             'Independent': 'independent'}, inplace=True)\n",
    "df_countries = df_countries.iloc[:, [2, 0, 5]]\n",
    "for country_code, row in df_countries.iterrows():\n",
    "    if country_code != 'VGB' and country_code != 'VIR':\n",
    "        row['country'] = row['country'].strip('\"')\n",
    "        row['country'] = row['country'].split(' (')[0]\n",
    "        row['country'] = row['country'].split('[')[0]\n",
    "        row['country'] = row['country'].split(',')[0]\n",
    "\n",
    "df_countries.head(2)"
   ]
  },
  {
   "cell_type": "code",
   "execution_count": 4,
   "metadata": {},
   "outputs": [],
   "source": [
    "df_countries.to_sql('countries', engine, index=False)\n",
    "with engine.connect() as con:\n",
    "    con.execute(\"\"\"ALTER TABLE countries ADD CONSTRAINT PK_country_code PRIMARY KEY (country_code);\"\"\")"
   ]
  },
  {
   "cell_type": "markdown",
   "metadata": {},
   "source": [
    "### Table of all U.S. states in ISO format"
   ]
  },
  {
   "cell_type": "code",
   "execution_count": 5,
   "metadata": {},
   "outputs": [
    {
     "data": {
      "text/html": [
       "<div>\n",
       "<style scoped>\n",
       "    .dataframe tbody tr th:only-of-type {\n",
       "        vertical-align: middle;\n",
       "    }\n",
       "\n",
       "    .dataframe tbody tr th {\n",
       "        vertical-align: top;\n",
       "    }\n",
       "\n",
       "    .dataframe thead th {\n",
       "        text-align: right;\n",
       "    }\n",
       "</style>\n",
       "<table border=\"1\" class=\"dataframe\">\n",
       "  <thead>\n",
       "    <tr style=\"text-align: right;\">\n",
       "      <th></th>\n",
       "      <th>state_code</th>\n",
       "      <th>state_name</th>\n",
       "      <th>category</th>\n",
       "    </tr>\n",
       "  </thead>\n",
       "  <tbody>\n",
       "    <tr>\n",
       "      <th>0</th>\n",
       "      <td>US-AL</td>\n",
       "      <td>Alabama</td>\n",
       "      <td>State</td>\n",
       "    </tr>\n",
       "    <tr>\n",
       "      <th>1</th>\n",
       "      <td>US-AK</td>\n",
       "      <td>Alaska</td>\n",
       "      <td>State</td>\n",
       "    </tr>\n",
       "  </tbody>\n",
       "</table>\n",
       "</div>"
      ],
      "text/plain": [
       "  state_code state_name category\n",
       "0      US-AL    Alabama    State\n",
       "1      US-AK     Alaska    State"
      ]
     },
     "execution_count": 5,
     "metadata": {},
     "output_type": "execute_result"
    }
   ],
   "source": [
    "url_states = 'https://en.wikipedia.org/wiki/ISO_3166-2:US'\n",
    "df_states = pd.read_html(url_states)[0]\n",
    "df_states.columns = ['state_code', 'state_name', 'category']\n",
    "df_states.head(2)"
   ]
  },
  {
   "cell_type": "code",
   "execution_count": 6,
   "metadata": {},
   "outputs": [],
   "source": [
    "df_states.to_sql('states', engine, index=False)\n",
    "with engine.connect() as con:\n",
    "    con.execute(\"\"\"ALTER TABLE states ADD CONSTRAINT PK_state_code PRIMARY KEY (state_code);\"\"\")"
   ]
  },
  {
   "cell_type": "markdown",
   "metadata": {},
   "source": [
    "# Numbeo. Analyzing and scraping cities and their indices."
   ]
  },
  {
   "cell_type": "markdown",
   "metadata": {},
   "source": [
    "As a basis I take the table Numbeo \"Current Cost of Living Index\", which currently has 522 cities and, so far, it is not clear how many countries and how many cities are in these countries."
   ]
  },
  {
   "cell_type": "code",
   "execution_count": 7,
   "metadata": {},
   "outputs": [
    {
     "data": {
      "text/html": [
       "<div>\n",
       "<style scoped>\n",
       "    .dataframe tbody tr th:only-of-type {\n",
       "        vertical-align: middle;\n",
       "    }\n",
       "\n",
       "    .dataframe tbody tr th {\n",
       "        vertical-align: top;\n",
       "    }\n",
       "\n",
       "    .dataframe thead th {\n",
       "        text-align: right;\n",
       "    }\n",
       "</style>\n",
       "<table border=\"1\" class=\"dataframe\">\n",
       "  <thead>\n",
       "    <tr style=\"text-align: right;\">\n",
       "      <th></th>\n",
       "      <th>Rank</th>\n",
       "      <th>City</th>\n",
       "      <th>Cost of Living Index</th>\n",
       "      <th>Rent Index</th>\n",
       "      <th>Cost of Living Plus Rent Index</th>\n",
       "      <th>Groceries Index</th>\n",
       "      <th>Restaurant Price Index</th>\n",
       "      <th>Local Purchasing Power Index</th>\n",
       "    </tr>\n",
       "  </thead>\n",
       "  <tbody>\n",
       "    <tr>\n",
       "      <th>0</th>\n",
       "      <td>NaN</td>\n",
       "      <td>Hamilton, Bermuda</td>\n",
       "      <td>145.04</td>\n",
       "      <td>94.69</td>\n",
       "      <td>120.85</td>\n",
       "      <td>150.27</td>\n",
       "      <td>142.75</td>\n",
       "      <td>84.02</td>\n",
       "    </tr>\n",
       "    <tr>\n",
       "      <th>1</th>\n",
       "      <td>NaN</td>\n",
       "      <td>Zug, Switzerland</td>\n",
       "      <td>116.60</td>\n",
       "      <td>59.00</td>\n",
       "      <td>88.92</td>\n",
       "      <td>117.28</td>\n",
       "      <td>119.03</td>\n",
       "      <td>149.67</td>\n",
       "    </tr>\n",
       "  </tbody>\n",
       "</table>\n",
       "</div>"
      ],
      "text/plain": [
       "   Rank               City  Cost of Living Index  Rent Index  \\\n",
       "0   NaN  Hamilton, Bermuda                145.04       94.69   \n",
       "1   NaN   Zug, Switzerland                116.60       59.00   \n",
       "\n",
       "   Cost of Living Plus Rent Index  Groceries Index  Restaurant Price Index  \\\n",
       "0                          120.85           150.27                  142.75   \n",
       "1                           88.92           117.28                  119.03   \n",
       "\n",
       "   Local Purchasing Power Index  \n",
       "0                         84.02  \n",
       "1                        149.67  "
      ]
     },
     "execution_count": 7,
     "metadata": {},
     "output_type": "execute_result"
    }
   ],
   "source": [
    "url = 'https://www.numbeo.com/cost-of-living/rankings_current.jsp'\n",
    "df = pd.read_html(url)[1]\n",
    "df.head(2)"
   ]
  },
  {
   "cell_type": "markdown",
   "metadata": {},
   "source": [
    "I add other Numbeo indexes related to cities. The indexes are duplicated in different tables but cover a different number of cities. I choose the ones with more cities."
   ]
  },
  {
   "cell_type": "code",
   "execution_count": 8,
   "metadata": {},
   "outputs": [],
   "source": [
    "indexes_dict = {\n",
    "    'https://www.numbeo.com/quality-of-life/rankings_current.jsp': \n",
    "        ['City',\n",
    "         'Quality of Life Index',\n",
    "         'Property Price to Income Ratio',\n",
    "         'Traffic Commute Time Index',\n",
    "         'Climate Index'],\n",
    "    'https://www.numbeo.com/crime/rankings_current.jsp': ['City', 'Safety Index'],\n",
    "    'https://www.numbeo.com/health-care/rankings_current.jsp': ['City', 'Health Care Index'],\n",
    "    'https://www.numbeo.com/pollution/rankings_current.jsp': ['City', 'Pollution Index']\n",
    "}"
   ]
  },
  {
   "cell_type": "code",
   "execution_count": 9,
   "metadata": {},
   "outputs": [],
   "source": [
    "for key, value in indexes_dict.items():\n",
    "    df_temp = pd.read_html(key)[1][value]\n",
    "    df = df.merge(df_temp, how='left', on='City')\n",
    "    \n",
    "df.drop(['Rank', 'Restaurant Price Index'], axis=1, inplace=True)\n",
    "df.columns = list(map(lambda x: x.removesuffix(' Index').lower().replace(' ', '_'), df.columns))\n",
    "df.rename(columns={'city': 'city_country'}, inplace=True)\n",
    "#df.head(3)"
   ]
  },
  {
   "cell_type": "markdown",
   "metadata": {},
   "source": [
    "I add links to the table to the pages of these cities with a strict indication of the USD currency "
   ]
  },
  {
   "cell_type": "code",
   "execution_count": 10,
   "metadata": {},
   "outputs": [],
   "source": [
    "response = requests.get(url).text\n",
    "soup = BeautifulSoup(response, 'lxml')\n",
    "links = soup.find_all('td', class_='cityOrCountryInIndicesTable')\n",
    "\n",
    "href_list = []\n",
    "for i in links:\n",
    "    href_list.append([i.find('a').text, i.find('a').get('href') + '?displayCurrency=USD'])\n",
    "    \n",
    "city_link = pd.DataFrame(href_list, columns=['city_country', 'link'])\n",
    "\n",
    "df = df.merge(city_link, how='left', on='city_country')"
   ]
  },
  {
   "cell_type": "markdown",
   "metadata": {},
   "source": [
    "### Split City - State - Country"
   ]
  },
  {
   "cell_type": "code",
   "execution_count": 11,
   "metadata": {},
   "outputs": [],
   "source": [
    "split_table1 = df['city_country'].str.rsplit(', ', n=1, expand=True)\n",
    "split_table1.columns=['city_state', 'country']\n",
    "\n",
    "split_table2 = split_table1['city_state'].str.split(', ', n=1, expand=True)\n",
    "split_table2.columns=['city', 'state_code']\n",
    "\n",
    "df = pd.concat([split_table2, split_table1['country'], df],axis=1)\n",
    "\n",
    "df['city'] = df.apply(lambda row: row.city.split(' (')[0], axis = 1) # removing duplicate cities in brackets\n",
    "\n",
    "#df.head()"
   ]
  },
  {
   "cell_type": "markdown",
   "metadata": {},
   "source": [
    "### Adding alpha_3 code to countries"
   ]
  },
  {
   "cell_type": "markdown",
   "metadata": {},
   "source": [
    "I will delete Kosovo first because it has no alpha3 code."
   ]
  },
  {
   "cell_type": "code",
   "execution_count": 12,
   "metadata": {},
   "outputs": [],
   "source": [
    "df = df.drop(df.loc[df['country'] == 'Kosovo (Disputed Territory)'].index)"
   ]
  },
  {
   "cell_type": "code",
   "execution_count": 13,
   "metadata": {},
   "outputs": [
    {
     "data": {
      "text/html": [
       "<div>\n",
       "<style scoped>\n",
       "    .dataframe tbody tr th:only-of-type {\n",
       "        vertical-align: middle;\n",
       "    }\n",
       "\n",
       "    .dataframe tbody tr th {\n",
       "        vertical-align: top;\n",
       "    }\n",
       "\n",
       "    .dataframe thead th {\n",
       "        text-align: right;\n",
       "    }\n",
       "</style>\n",
       "<table border=\"1\" class=\"dataframe\">\n",
       "  <thead>\n",
       "    <tr style=\"text-align: right;\">\n",
       "      <th></th>\n",
       "      <th>city</th>\n",
       "      <th>state_code</th>\n",
       "      <th>country</th>\n",
       "      <th>city_country</th>\n",
       "      <th>cost_of_living</th>\n",
       "      <th>rent</th>\n",
       "      <th>cost_of_living_plus_rent</th>\n",
       "      <th>groceries</th>\n",
       "      <th>local_purchasing_power</th>\n",
       "      <th>quality_of_life</th>\n",
       "      <th>property_price_to_income_ratio</th>\n",
       "      <th>traffic_commute_time</th>\n",
       "      <th>climate</th>\n",
       "      <th>safety</th>\n",
       "      <th>health_care</th>\n",
       "      <th>pollution</th>\n",
       "      <th>link</th>\n",
       "      <th>country_code</th>\n",
       "    </tr>\n",
       "  </thead>\n",
       "  <tbody>\n",
       "    <tr>\n",
       "      <th>0</th>\n",
       "      <td>Hamilton</td>\n",
       "      <td>None</td>\n",
       "      <td>Bermuda</td>\n",
       "      <td>Hamilton, Bermuda</td>\n",
       "      <td>145.04</td>\n",
       "      <td>94.69</td>\n",
       "      <td>120.85</td>\n",
       "      <td>150.27</td>\n",
       "      <td>84.02</td>\n",
       "      <td>NaN</td>\n",
       "      <td>NaN</td>\n",
       "      <td>NaN</td>\n",
       "      <td>NaN</td>\n",
       "      <td>NaN</td>\n",
       "      <td>NaN</td>\n",
       "      <td>NaN</td>\n",
       "      <td>https://www.numbeo.com/cost-of-living/in/Hamil...</td>\n",
       "      <td>BMU</td>\n",
       "    </tr>\n",
       "    <tr>\n",
       "      <th>1</th>\n",
       "      <td>Zug</td>\n",
       "      <td>None</td>\n",
       "      <td>Switzerland</td>\n",
       "      <td>Zug, Switzerland</td>\n",
       "      <td>116.60</td>\n",
       "      <td>59.00</td>\n",
       "      <td>88.92</td>\n",
       "      <td>117.28</td>\n",
       "      <td>149.67</td>\n",
       "      <td>NaN</td>\n",
       "      <td>NaN</td>\n",
       "      <td>NaN</td>\n",
       "      <td>NaN</td>\n",
       "      <td>NaN</td>\n",
       "      <td>NaN</td>\n",
       "      <td>NaN</td>\n",
       "      <td>https://www.numbeo.com/cost-of-living/in/Zug?d...</td>\n",
       "      <td>CHE</td>\n",
       "    </tr>\n",
       "    <tr>\n",
       "      <th>2</th>\n",
       "      <td>Basel</td>\n",
       "      <td>None</td>\n",
       "      <td>Switzerland</td>\n",
       "      <td>Basel, Switzerland</td>\n",
       "      <td>116.34</td>\n",
       "      <td>41.87</td>\n",
       "      <td>80.56</td>\n",
       "      <td>122.30</td>\n",
       "      <td>116.43</td>\n",
       "      <td>201.27</td>\n",
       "      <td>7.98</td>\n",
       "      <td>20.43</td>\n",
       "      <td>82.82</td>\n",
       "      <td>80.08</td>\n",
       "      <td>NaN</td>\n",
       "      <td>NaN</td>\n",
       "      <td>https://www.numbeo.com/cost-of-living/in/Basel...</td>\n",
       "      <td>CHE</td>\n",
       "    </tr>\n",
       "  </tbody>\n",
       "</table>\n",
       "</div>"
      ],
      "text/plain": [
       "       city state_code      country        city_country  cost_of_living  \\\n",
       "0  Hamilton       None      Bermuda   Hamilton, Bermuda          145.04   \n",
       "1       Zug       None  Switzerland    Zug, Switzerland          116.60   \n",
       "2     Basel       None  Switzerland  Basel, Switzerland          116.34   \n",
       "\n",
       "    rent  cost_of_living_plus_rent  groceries  local_purchasing_power  \\\n",
       "0  94.69                    120.85     150.27                   84.02   \n",
       "1  59.00                     88.92     117.28                  149.67   \n",
       "2  41.87                     80.56     122.30                  116.43   \n",
       "\n",
       "   quality_of_life  property_price_to_income_ratio  traffic_commute_time  \\\n",
       "0              NaN                             NaN                   NaN   \n",
       "1              NaN                             NaN                   NaN   \n",
       "2           201.27                            7.98                 20.43   \n",
       "\n",
       "   climate  safety  health_care  pollution  \\\n",
       "0      NaN     NaN          NaN        NaN   \n",
       "1      NaN     NaN          NaN        NaN   \n",
       "2    82.82   80.08          NaN        NaN   \n",
       "\n",
       "                                                link country_code  \n",
       "0  https://www.numbeo.com/cost-of-living/in/Hamil...          BMU  \n",
       "1  https://www.numbeo.com/cost-of-living/in/Zug?d...          CHE  \n",
       "2  https://www.numbeo.com/cost-of-living/in/Basel...          CHE  "
      ]
     },
     "execution_count": 13,
     "metadata": {},
     "output_type": "execute_result"
    }
   ],
   "source": [
    "new_df = pd.DataFrame({'country': df['country'].unique()})\n",
    "new_df['country_code'] = new_df.apply(lambda row: coco.convert(names=row.country, to='ISO3') , axis = 1)\n",
    "df = df.merge(new_df, how='left', on='country')\n",
    "\n",
    "#df['country_code'] = df.apply(lambda row: coco.convert(names=row.country, to='ISO3') , axis = 1) - can be on one line, but it takes 4 times as long\n",
    "df.head(3)"
   ]
  },
  {
   "cell_type": "markdown",
   "metadata": {},
   "source": [
    "### Adding a code to USA states\n",
    "There are three non-U.S. state values.\n",
    "I will assign all of these values to None.\n",
    "I will add \"US- \" to the U.S. states to bring them to the ISO standard for U.S. states."
   ]
  },
  {
   "cell_type": "code",
   "execution_count": 14,
   "metadata": {},
   "outputs": [
    {
     "data": {
      "text/html": [
       "<div>\n",
       "<style scoped>\n",
       "    .dataframe tbody tr th:only-of-type {\n",
       "        vertical-align: middle;\n",
       "    }\n",
       "\n",
       "    .dataframe tbody tr th {\n",
       "        vertical-align: top;\n",
       "    }\n",
       "\n",
       "    .dataframe thead th {\n",
       "        text-align: right;\n",
       "    }\n",
       "</style>\n",
       "<table border=\"1\" class=\"dataframe\">\n",
       "  <thead>\n",
       "    <tr style=\"text-align: right;\">\n",
       "      <th></th>\n",
       "      <th>city</th>\n",
       "      <th>state_code</th>\n",
       "      <th>country</th>\n",
       "      <th>city_country</th>\n",
       "      <th>cost_of_living</th>\n",
       "      <th>rent</th>\n",
       "      <th>cost_of_living_plus_rent</th>\n",
       "      <th>groceries</th>\n",
       "      <th>local_purchasing_power</th>\n",
       "      <th>quality_of_life</th>\n",
       "      <th>property_price_to_income_ratio</th>\n",
       "      <th>traffic_commute_time</th>\n",
       "      <th>climate</th>\n",
       "      <th>safety</th>\n",
       "      <th>health_care</th>\n",
       "      <th>pollution</th>\n",
       "      <th>link</th>\n",
       "      <th>country_code</th>\n",
       "    </tr>\n",
       "  </thead>\n",
       "  <tbody>\n",
       "    <tr>\n",
       "      <th>50</th>\n",
       "      <td>Nanaimo</td>\n",
       "      <td>BC</td>\n",
       "      <td>Canada</td>\n",
       "      <td>Nanaimo, BC, Canada</td>\n",
       "      <td>75.62</td>\n",
       "      <td>35.22</td>\n",
       "      <td>56.21</td>\n",
       "      <td>76.61</td>\n",
       "      <td>88.48</td>\n",
       "      <td>NaN</td>\n",
       "      <td>NaN</td>\n",
       "      <td>NaN</td>\n",
       "      <td>NaN</td>\n",
       "      <td>50.77</td>\n",
       "      <td>68.65</td>\n",
       "      <td>NaN</td>\n",
       "      <td>https://www.numbeo.com/cost-of-living/in/Nanai...</td>\n",
       "      <td>CAN</td>\n",
       "    </tr>\n",
       "    <tr>\n",
       "      <th>62</th>\n",
       "      <td>St. John's</td>\n",
       "      <td>Newfoundland and Labrador</td>\n",
       "      <td>Canada</td>\n",
       "      <td>St. John's, Newfoundland and Labrador, Canada</td>\n",
       "      <td>74.58</td>\n",
       "      <td>20.17</td>\n",
       "      <td>48.43</td>\n",
       "      <td>72.64</td>\n",
       "      <td>151.18</td>\n",
       "      <td>NaN</td>\n",
       "      <td>NaN</td>\n",
       "      <td>NaN</td>\n",
       "      <td>NaN</td>\n",
       "      <td>53.01</td>\n",
       "      <td>NaN</td>\n",
       "      <td>NaN</td>\n",
       "      <td>https://www.numbeo.com/cost-of-living/in/St-Jo...</td>\n",
       "      <td>CAN</td>\n",
       "    </tr>\n",
       "    <tr>\n",
       "      <th>441</th>\n",
       "      <td>Qingdao</td>\n",
       "      <td>Shandong</td>\n",
       "      <td>China</td>\n",
       "      <td>Qingdao, Shandong, China</td>\n",
       "      <td>32.51</td>\n",
       "      <td>10.64</td>\n",
       "      <td>22.00</td>\n",
       "      <td>34.81</td>\n",
       "      <td>74.03</td>\n",
       "      <td>160.28</td>\n",
       "      <td>19.13</td>\n",
       "      <td>25.12</td>\n",
       "      <td>70.4</td>\n",
       "      <td>NaN</td>\n",
       "      <td>77.48</td>\n",
       "      <td>51.65</td>\n",
       "      <td>https://www.numbeo.com/cost-of-living/in/Qingd...</td>\n",
       "      <td>CHN</td>\n",
       "    </tr>\n",
       "    <tr>\n",
       "      <th>453</th>\n",
       "      <td>Batumi</td>\n",
       "      <td>Ajara</td>\n",
       "      <td>Georgia</td>\n",
       "      <td>Batumi, Ajara, Georgia</td>\n",
       "      <td>31.65</td>\n",
       "      <td>12.44</td>\n",
       "      <td>22.42</td>\n",
       "      <td>30.99</td>\n",
       "      <td>27.42</td>\n",
       "      <td>NaN</td>\n",
       "      <td>NaN</td>\n",
       "      <td>NaN</td>\n",
       "      <td>NaN</td>\n",
       "      <td>NaN</td>\n",
       "      <td>NaN</td>\n",
       "      <td>NaN</td>\n",
       "      <td>https://www.numbeo.com/cost-of-living/in/Batum...</td>\n",
       "      <td>GEO</td>\n",
       "    </tr>\n",
       "  </tbody>\n",
       "</table>\n",
       "</div>"
      ],
      "text/plain": [
       "           city                 state_code  country  \\\n",
       "50      Nanaimo                         BC   Canada   \n",
       "62   St. John's  Newfoundland and Labrador   Canada   \n",
       "441     Qingdao                   Shandong    China   \n",
       "453      Batumi                      Ajara  Georgia   \n",
       "\n",
       "                                      city_country  cost_of_living   rent  \\\n",
       "50                             Nanaimo, BC, Canada           75.62  35.22   \n",
       "62   St. John's, Newfoundland and Labrador, Canada           74.58  20.17   \n",
       "441                       Qingdao, Shandong, China           32.51  10.64   \n",
       "453                         Batumi, Ajara, Georgia           31.65  12.44   \n",
       "\n",
       "     cost_of_living_plus_rent  groceries  local_purchasing_power  \\\n",
       "50                      56.21      76.61                   88.48   \n",
       "62                      48.43      72.64                  151.18   \n",
       "441                     22.00      34.81                   74.03   \n",
       "453                     22.42      30.99                   27.42   \n",
       "\n",
       "     quality_of_life  property_price_to_income_ratio  traffic_commute_time  \\\n",
       "50               NaN                             NaN                   NaN   \n",
       "62               NaN                             NaN                   NaN   \n",
       "441           160.28                           19.13                 25.12   \n",
       "453              NaN                             NaN                   NaN   \n",
       "\n",
       "     climate  safety  health_care  pollution  \\\n",
       "50       NaN   50.77        68.65        NaN   \n",
       "62       NaN   53.01          NaN        NaN   \n",
       "441     70.4     NaN        77.48      51.65   \n",
       "453      NaN     NaN          NaN        NaN   \n",
       "\n",
       "                                                  link country_code  \n",
       "50   https://www.numbeo.com/cost-of-living/in/Nanai...          CAN  \n",
       "62   https://www.numbeo.com/cost-of-living/in/St-Jo...          CAN  \n",
       "441  https://www.numbeo.com/cost-of-living/in/Qingd...          CHN  \n",
       "453  https://www.numbeo.com/cost-of-living/in/Batum...          GEO  "
      ]
     },
     "execution_count": 14,
     "metadata": {},
     "output_type": "execute_result"
    }
   ],
   "source": [
    "df[df['state_code'].notnull() & (df['country'] != \"United States\")]"
   ]
  },
  {
   "cell_type": "code",
   "execution_count": 15,
   "metadata": {},
   "outputs": [],
   "source": [
    "indexes = df[df['state_code'].notnull() & (df['country'] != \"United States\")]['state_code'].index\n",
    "df.loc[indexes, 'state_code'] = None\n",
    "\n",
    "df['state_code'] = df.apply(lambda row: f\"US-{row['state_code']}\" if row['state_code'] != None else None, axis = 1)"
   ]
  },
  {
   "cell_type": "markdown",
   "metadata": {},
   "source": [
    "# Map\n",
    "There are 505 cities in the Numbeo index, but it is not clear which countries, many or few. How many cities are in these countries and what proportions? The total numbers won't tell me much, it would be much clearer to show them on a map."
   ]
  },
  {
   "cell_type": "code",
   "execution_count": 16,
   "metadata": {},
   "outputs": [
    {
     "data": {
      "text/plain": [
       "<folium.features.Choropleth at 0x7f3ccb497640>"
      ]
     },
     "execution_count": 16,
     "metadata": {},
     "output_type": "execute_result"
    }
   ],
   "source": [
    "map_df = df.groupby('country_code')['city'].nunique().reset_index().sort_values('city', ascending=False)\n",
    "\n",
    "m = folium.Map(location=[37.87820990704326, 6.555063556986549], zoom_start=1.5)\n",
    "folium.Choropleth(\n",
    "    geo_data='scripts/data/world.geojson',\n",
    "    name=\"choropleth\",\n",
    "    data=map_df,\n",
    "    columns=['country_code', 'city'],\n",
    "    key_on=\"feature.properties.ISO_A3\", \n",
    "    fill_color=\"YlGn\",\n",
    "    nan_fill_color='pink',\n",
    "    fill_opacity=0.8,\n",
    "    bins=7,\n",
    "    reset=True,\n",
    "    highlight=True,\n",
    "    legend_name='Count of cities'\n",
    ").add_to(m)"
   ]
  },
  {
   "cell_type": "code",
   "execution_count": 17,
   "metadata": {},
   "outputs": [],
   "source": [
    "#m - show interactive map by folium"
   ]
  },
  {
   "cell_type": "markdown",
   "metadata": {},
   "source": [
    "![title](./data/map.png)"
   ]
  },
  {
   "cell_type": "markdown",
   "metadata": {},
   "source": [
    "On GitHub the interactive map is not displayed, so instead of displaying a map, I inserted a picture.\n",
    "\n",
    "Now I can see which countries are in the index and which are not, and how many cities are in each country. I'm fine with it, except I don't need so many cities in India. I will remove the unnecessary (save 2 cities)."
   ]
  },
  {
   "cell_type": "code",
   "execution_count": 18,
   "metadata": {},
   "outputs": [],
   "source": [
    "india = df.loc[(df['country'] == 'India') & \n",
    "              (df['city'] != 'Delhi') & \n",
    "              (df['city'] !='Mumbai')]\n",
    "\n",
    "df = df.drop(india.index)"
   ]
  },
  {
   "cell_type": "markdown",
   "metadata": {},
   "source": [
    "I will prepare the indexes (Primary Key) for the future table in postgres, so I can immediately load it into the database."
   ]
  },
  {
   "cell_type": "code",
   "execution_count": 19,
   "metadata": {},
   "outputs": [
    {
     "data": {
      "text/html": [
       "<div>\n",
       "<style scoped>\n",
       "    .dataframe tbody tr th:only-of-type {\n",
       "        vertical-align: middle;\n",
       "    }\n",
       "\n",
       "    .dataframe tbody tr th {\n",
       "        vertical-align: top;\n",
       "    }\n",
       "\n",
       "    .dataframe thead th {\n",
       "        text-align: right;\n",
       "    }\n",
       "</style>\n",
       "<table border=\"1\" class=\"dataframe\">\n",
       "  <thead>\n",
       "    <tr style=\"text-align: right;\">\n",
       "      <th></th>\n",
       "      <th>city_id</th>\n",
       "      <th>city</th>\n",
       "      <th>state_code</th>\n",
       "      <th>country</th>\n",
       "      <th>city_country</th>\n",
       "      <th>cost_of_living</th>\n",
       "      <th>rent</th>\n",
       "      <th>cost_of_living_plus_rent</th>\n",
       "      <th>groceries</th>\n",
       "      <th>local_purchasing_power</th>\n",
       "      <th>quality_of_life</th>\n",
       "      <th>property_price_to_income_ratio</th>\n",
       "      <th>traffic_commute_time</th>\n",
       "      <th>climate</th>\n",
       "      <th>safety</th>\n",
       "      <th>health_care</th>\n",
       "      <th>pollution</th>\n",
       "      <th>link</th>\n",
       "      <th>country_code</th>\n",
       "    </tr>\n",
       "  </thead>\n",
       "  <tbody>\n",
       "    <tr>\n",
       "      <th>0</th>\n",
       "      <td>1</td>\n",
       "      <td>Hamilton</td>\n",
       "      <td>None</td>\n",
       "      <td>Bermuda</td>\n",
       "      <td>Hamilton, Bermuda</td>\n",
       "      <td>145.04</td>\n",
       "      <td>94.69</td>\n",
       "      <td>120.85</td>\n",
       "      <td>150.27</td>\n",
       "      <td>84.02</td>\n",
       "      <td>NaN</td>\n",
       "      <td>NaN</td>\n",
       "      <td>NaN</td>\n",
       "      <td>NaN</td>\n",
       "      <td>NaN</td>\n",
       "      <td>NaN</td>\n",
       "      <td>NaN</td>\n",
       "      <td>https://www.numbeo.com/cost-of-living/in/Hamil...</td>\n",
       "      <td>BMU</td>\n",
       "    </tr>\n",
       "    <tr>\n",
       "      <th>1</th>\n",
       "      <td>2</td>\n",
       "      <td>Zug</td>\n",
       "      <td>None</td>\n",
       "      <td>Switzerland</td>\n",
       "      <td>Zug, Switzerland</td>\n",
       "      <td>116.60</td>\n",
       "      <td>59.00</td>\n",
       "      <td>88.92</td>\n",
       "      <td>117.28</td>\n",
       "      <td>149.67</td>\n",
       "      <td>NaN</td>\n",
       "      <td>NaN</td>\n",
       "      <td>NaN</td>\n",
       "      <td>NaN</td>\n",
       "      <td>NaN</td>\n",
       "      <td>NaN</td>\n",
       "      <td>NaN</td>\n",
       "      <td>https://www.numbeo.com/cost-of-living/in/Zug?d...</td>\n",
       "      <td>CHE</td>\n",
       "    </tr>\n",
       "    <tr>\n",
       "      <th>2</th>\n",
       "      <td>3</td>\n",
       "      <td>Basel</td>\n",
       "      <td>None</td>\n",
       "      <td>Switzerland</td>\n",
       "      <td>Basel, Switzerland</td>\n",
       "      <td>116.34</td>\n",
       "      <td>41.87</td>\n",
       "      <td>80.56</td>\n",
       "      <td>122.30</td>\n",
       "      <td>116.43</td>\n",
       "      <td>201.27</td>\n",
       "      <td>7.98</td>\n",
       "      <td>20.43</td>\n",
       "      <td>82.82</td>\n",
       "      <td>80.08</td>\n",
       "      <td>NaN</td>\n",
       "      <td>NaN</td>\n",
       "      <td>https://www.numbeo.com/cost-of-living/in/Basel...</td>\n",
       "      <td>CHE</td>\n",
       "    </tr>\n",
       "  </tbody>\n",
       "</table>\n",
       "</div>"
      ],
      "text/plain": [
       "   city_id      city state_code      country        city_country  \\\n",
       "0        1  Hamilton       None      Bermuda   Hamilton, Bermuda   \n",
       "1        2       Zug       None  Switzerland    Zug, Switzerland   \n",
       "2        3     Basel       None  Switzerland  Basel, Switzerland   \n",
       "\n",
       "   cost_of_living   rent  cost_of_living_plus_rent  groceries  \\\n",
       "0          145.04  94.69                    120.85     150.27   \n",
       "1          116.60  59.00                     88.92     117.28   \n",
       "2          116.34  41.87                     80.56     122.30   \n",
       "\n",
       "   local_purchasing_power  quality_of_life  property_price_to_income_ratio  \\\n",
       "0                   84.02              NaN                             NaN   \n",
       "1                  149.67              NaN                             NaN   \n",
       "2                  116.43           201.27                            7.98   \n",
       "\n",
       "   traffic_commute_time  climate  safety  health_care  pollution  \\\n",
       "0                   NaN      NaN     NaN          NaN        NaN   \n",
       "1                   NaN      NaN     NaN          NaN        NaN   \n",
       "2                 20.43    82.82   80.08          NaN        NaN   \n",
       "\n",
       "                                                link country_code  \n",
       "0  https://www.numbeo.com/cost-of-living/in/Hamil...          BMU  \n",
       "1  https://www.numbeo.com/cost-of-living/in/Zug?d...          CHE  \n",
       "2  https://www.numbeo.com/cost-of-living/in/Basel...          CHE  "
      ]
     },
     "execution_count": 19,
     "metadata": {},
     "output_type": "execute_result"
    }
   ],
   "source": [
    "df.reset_index(drop=True, inplace=True)\n",
    "df.insert(0, 'city_id', df.index +1)\n",
    "df.head(3)"
   ]
  },
  {
   "cell_type": "markdown",
   "metadata": {},
   "source": [
    "I add to the table 'state_name' from the database. And I save with the right columns and Primary Keys in the index for scraping to a file."
   ]
  },
  {
   "cell_type": "code",
   "execution_count": 20,
   "metadata": {},
   "outputs": [],
   "source": [
    "states_tbl = pd.read_sql('states', engine).loc[:, ['state_code', 'state_name']]\n",
    "df = df.merge(states_tbl, on='state_code', how='left')\n",
    "df_to_file = df.iloc[:, [0, 1, 2, -1, 3, -2, 4, -3]].copy()\n",
    "df_to_file.set_index('city_id', inplace=True)\n",
    "df_to_file.to_pickle(\"./scripts/data/numbeo_links.pkl\")"
   ]
  },
  {
   "cell_type": "markdown",
   "metadata": {},
   "source": [
    "I form and load a table of cities in the database with information about who added the data to the table and assign keys."
   ]
  },
  {
   "cell_type": "code",
   "execution_count": 21,
   "metadata": {},
   "outputs": [],
   "source": [
    "df_cities = df.iloc[:, [0, 1, 2, -2]].copy()\n",
    "df_cities.to_sql('cities', engine, if_exists='append', index=False)\n",
    "with engine.connect() as con:\n",
    "    con.execute(\"\"\"ALTER TABLE cities ADD CONSTRAINT PK_city_id PRIMARY KEY (city_id);\n",
    "                ALTER TABLE cities ADD CONSTRAINT FK_country_code FOREIGN KEY (country_code) REFERENCES public.countries (country_code);\n",
    "                ALTER TABLE cities ADD CONSTRAINT FK_state_code FOREIGN KEY (state_code) REFERENCES public.states (state_code);\"\"\")"
   ]
  },
  {
   "cell_type": "markdown",
   "metadata": {},
   "source": [
    "# I form a table of indices numbeo by city + upload it to the database"
   ]
  },
  {
   "cell_type": "code",
   "execution_count": 22,
   "metadata": {},
   "outputs": [
    {
     "data": {
      "text/html": [
       "<div>\n",
       "<style scoped>\n",
       "    .dataframe tbody tr th:only-of-type {\n",
       "        vertical-align: middle;\n",
       "    }\n",
       "\n",
       "    .dataframe tbody tr th {\n",
       "        vertical-align: top;\n",
       "    }\n",
       "\n",
       "    .dataframe thead th {\n",
       "        text-align: right;\n",
       "    }\n",
       "</style>\n",
       "<table border=\"1\" class=\"dataframe\">\n",
       "  <thead>\n",
       "    <tr style=\"text-align: right;\">\n",
       "      <th></th>\n",
       "      <th>city_id</th>\n",
       "      <th>cost_of_living</th>\n",
       "      <th>rent</th>\n",
       "      <th>cost_of_living_plus_rent</th>\n",
       "      <th>groceries</th>\n",
       "      <th>local_purchasing_power</th>\n",
       "      <th>quality_of_life</th>\n",
       "      <th>property_price_to_income_ratio</th>\n",
       "      <th>traffic_commute_time</th>\n",
       "      <th>climate</th>\n",
       "      <th>safety</th>\n",
       "      <th>health_care</th>\n",
       "      <th>pollution</th>\n",
       "      <th>sys_updated_date</th>\n",
       "      <th>sys_updated_by</th>\n",
       "    </tr>\n",
       "  </thead>\n",
       "  <tbody>\n",
       "    <tr>\n",
       "      <th>0</th>\n",
       "      <td>1</td>\n",
       "      <td>145.04</td>\n",
       "      <td>94.69</td>\n",
       "      <td>120.85</td>\n",
       "      <td>150.27</td>\n",
       "      <td>84.02</td>\n",
       "      <td>NaN</td>\n",
       "      <td>NaN</td>\n",
       "      <td>NaN</td>\n",
       "      <td>NaN</td>\n",
       "      <td>NaN</td>\n",
       "      <td>NaN</td>\n",
       "      <td>NaN</td>\n",
       "      <td>2022-07-17</td>\n",
       "      <td>analyst_k2</td>\n",
       "    </tr>\n",
       "    <tr>\n",
       "      <th>1</th>\n",
       "      <td>2</td>\n",
       "      <td>116.60</td>\n",
       "      <td>59.00</td>\n",
       "      <td>88.92</td>\n",
       "      <td>117.28</td>\n",
       "      <td>149.67</td>\n",
       "      <td>NaN</td>\n",
       "      <td>NaN</td>\n",
       "      <td>NaN</td>\n",
       "      <td>NaN</td>\n",
       "      <td>NaN</td>\n",
       "      <td>NaN</td>\n",
       "      <td>NaN</td>\n",
       "      <td>2022-07-17</td>\n",
       "      <td>analyst_k2</td>\n",
       "    </tr>\n",
       "  </tbody>\n",
       "</table>\n",
       "</div>"
      ],
      "text/plain": [
       "   city_id  cost_of_living   rent  cost_of_living_plus_rent  groceries  \\\n",
       "0        1          145.04  94.69                    120.85     150.27   \n",
       "1        2          116.60  59.00                     88.92     117.28   \n",
       "\n",
       "   local_purchasing_power  quality_of_life  property_price_to_income_ratio  \\\n",
       "0                   84.02              NaN                             NaN   \n",
       "1                  149.67              NaN                             NaN   \n",
       "\n",
       "   traffic_commute_time  climate  safety  health_care  pollution  \\\n",
       "0                   NaN      NaN     NaN          NaN        NaN   \n",
       "1                   NaN      NaN     NaN          NaN        NaN   \n",
       "\n",
       "  sys_updated_date sys_updated_by  \n",
       "0       2022-07-17     analyst_k2  \n",
       "1       2022-07-17     analyst_k2  "
      ]
     },
     "execution_count": 22,
     "metadata": {},
     "output_type": "execute_result"
    }
   ],
   "source": [
    "df_city_index = df.iloc[:, [0] + list(range(5,17))].copy()\n",
    "# добавляю столбцы когда и кем добавлены данные в таблицу\n",
    "df_city_index.loc[:, ('sys_updated_date', 'sys_updated_by')] = (date.today(), getenv('NB_USER'))\n",
    "df_city_index.head(2)"
   ]
  },
  {
   "cell_type": "code",
   "execution_count": 23,
   "metadata": {},
   "outputs": [],
   "source": [
    "df_city_index.to_sql('numbeo_indexes_by_city', engine, index=False)\n",
    "with engine.connect() as con:\n",
    "    con.execute(\"\"\"ALTER TABLE numbeo_indexes_by_city ADD CONSTRAINT FK_numbeo_indexes_by_city FOREIGN KEY (city_id) REFERENCES public.cities (city_id);\"\"\")"
   ]
  },
  {
   "cell_type": "markdown",
   "metadata": {},
   "source": [
    "# I form a table of indices nambeo by country + upload it to the database"
   ]
  },
  {
   "cell_type": "markdown",
   "metadata": {},
   "source": [
    "#### From Cost of Living Index by Country 2022"
   ]
  },
  {
   "cell_type": "code",
   "execution_count": 24,
   "metadata": {},
   "outputs": [],
   "source": [
    "df_col_index = pd.read_html('https://www.numbeo.com/cost-of-living/rankings_by_country.jsp')[1]\n",
    "df_col_index.drop('Rank', axis=1, inplace=True)\n",
    "df_col_index.columns = list(map(lambda x: x.removesuffix(' Index').lower().replace(' ', '_'), df_col_index.columns))"
   ]
  },
  {
   "cell_type": "markdown",
   "metadata": {},
   "source": [
    "#### From Quality of Life Index by Country"
   ]
  },
  {
   "cell_type": "code",
   "execution_count": 25,
   "metadata": {},
   "outputs": [],
   "source": [
    "df_qol_index = pd.read_html('https://www.numbeo.com/quality-of-life/rankings_by_country.jsp')[1]\n",
    "df_qol_index.drop(['Rank', 'Cost of Living Index', 'Safety Index'], axis=1, inplace=True)\n",
    "df_qol_index.columns = list(map(lambda x: x.removesuffix(' Index').lower().replace(' ', '_'), df_qol_index.columns))"
   ]
  },
  {
   "cell_type": "markdown",
   "metadata": {},
   "source": [
    "#### From Average Monthly Net Salary by Country"
   ]
  },
  {
   "cell_type": "code",
   "execution_count": 26,
   "metadata": {},
   "outputs": [],
   "source": [
    "df_salary_index = pd.read_html('https://www.numbeo.com/cost-of-living/country_price_rankings?itemId=105')[1]\n",
    "df_salary_index.drop([0, 2], axis=1, inplace=True)\n",
    "df_salary_index[3] = df_salary_index[3].apply(lambda row: float(row.rstrip('\\xa0$').replace(',', '')))\n",
    "df_salary_index.rename(columns={1: 'country', 3: 'avg_salary(usd)'}, inplace=True)"
   ]
  },
  {
   "cell_type": "markdown",
   "metadata": {},
   "source": [
    "#### From Crime Index by Country"
   ]
  },
  {
   "cell_type": "code",
   "execution_count": 27,
   "metadata": {},
   "outputs": [],
   "source": [
    "df_safety_index = pd.read_html('https://www.numbeo.com/crime/rankings_by_country.jsp')[1]\n",
    "df_safety_index = df_safety_index[['Country', 'Safety Index']]\n",
    "df_safety_index.columns=['country', 'safety']"
   ]
  },
  {
   "cell_type": "markdown",
   "metadata": {},
   "source": [
    "#### Merge 4 Country Tables"
   ]
  },
  {
   "cell_type": "code",
   "execution_count": 28,
   "metadata": {},
   "outputs": [],
   "source": [
    "df_country_index = df_col_index.merge(df_qol_index, how='left', on='country')\n",
    "df_country_index = df_country_index.merge(df_salary_index, how='left', on='country')\n",
    "df_country_index = df_country_index.merge(df_safety_index, how='left', on='country')\n",
    "# добавляю столбцы когда и кем добавлены данные в таблицу\n",
    "df_country_index.loc[:, ('sys_updated_date', 'sys_updated_by')] = (date.today(), getenv('NB_USER'))"
   ]
  },
  {
   "cell_type": "markdown",
   "metadata": {},
   "source": [
    "Removing Kosovo"
   ]
  },
  {
   "cell_type": "code",
   "execution_count": 29,
   "metadata": {},
   "outputs": [],
   "source": [
    "df_country_index = df_country_index.drop(df_country_index.loc[df_country_index['country'] == 'Kosovo (Disputed Territory)'].index)"
   ]
  },
  {
   "cell_type": "code",
   "execution_count": 30,
   "metadata": {},
   "outputs": [
    {
     "data": {
      "text/html": [
       "<div>\n",
       "<style scoped>\n",
       "    .dataframe tbody tr th:only-of-type {\n",
       "        vertical-align: middle;\n",
       "    }\n",
       "\n",
       "    .dataframe tbody tr th {\n",
       "        vertical-align: top;\n",
       "    }\n",
       "\n",
       "    .dataframe thead th {\n",
       "        text-align: right;\n",
       "    }\n",
       "</style>\n",
       "<table border=\"1\" class=\"dataframe\">\n",
       "  <thead>\n",
       "    <tr style=\"text-align: right;\">\n",
       "      <th></th>\n",
       "      <th>country_code</th>\n",
       "      <th>cost_of_living</th>\n",
       "      <th>rent</th>\n",
       "      <th>cost_of_living_plus_rent</th>\n",
       "      <th>groceries</th>\n",
       "      <th>restaurant_price</th>\n",
       "      <th>local_purchasing_power</th>\n",
       "      <th>quality_of_life</th>\n",
       "      <th>purchasing_power</th>\n",
       "      <th>health_care</th>\n",
       "      <th>property_price_to_income_ratio</th>\n",
       "      <th>traffic_commute_time</th>\n",
       "      <th>pollution</th>\n",
       "      <th>climate</th>\n",
       "      <th>avg_salary(usd)</th>\n",
       "      <th>safety</th>\n",
       "      <th>sys_updated_date</th>\n",
       "      <th>sys_updated_by</th>\n",
       "    </tr>\n",
       "  </thead>\n",
       "  <tbody>\n",
       "    <tr>\n",
       "      <th>0</th>\n",
       "      <td>BMU</td>\n",
       "      <td>141.74</td>\n",
       "      <td>98.96</td>\n",
       "      <td>121.39</td>\n",
       "      <td>142.62</td>\n",
       "      <td>144.74</td>\n",
       "      <td>82.34</td>\n",
       "      <td>NaN</td>\n",
       "      <td>NaN</td>\n",
       "      <td>NaN</td>\n",
       "      <td>NaN</td>\n",
       "      <td>NaN</td>\n",
       "      <td>NaN</td>\n",
       "      <td>NaN</td>\n",
       "      <td>NaN</td>\n",
       "      <td>NaN</td>\n",
       "      <td>2022-07-17</td>\n",
       "      <td>analyst_k2</td>\n",
       "    </tr>\n",
       "    <tr>\n",
       "      <th>1</th>\n",
       "      <td>CHE</td>\n",
       "      <td>110.34</td>\n",
       "      <td>50.21</td>\n",
       "      <td>81.73</td>\n",
       "      <td>113.35</td>\n",
       "      <td>104.30</td>\n",
       "      <td>116.19</td>\n",
       "      <td>195.06</td>\n",
       "      <td>116.19</td>\n",
       "      <td>75.32</td>\n",
       "      <td>8.86</td>\n",
       "      <td>28.37</td>\n",
       "      <td>19.39</td>\n",
       "      <td>79.56</td>\n",
       "      <td>5979.26</td>\n",
       "      <td>77.88</td>\n",
       "      <td>2022-07-17</td>\n",
       "      <td>analyst_k2</td>\n",
       "    </tr>\n",
       "  </tbody>\n",
       "</table>\n",
       "</div>"
      ],
      "text/plain": [
       "  country_code  cost_of_living   rent  cost_of_living_plus_rent  groceries  \\\n",
       "0          BMU          141.74  98.96                    121.39     142.62   \n",
       "1          CHE          110.34  50.21                     81.73     113.35   \n",
       "\n",
       "   restaurant_price  local_purchasing_power  quality_of_life  \\\n",
       "0            144.74                   82.34              NaN   \n",
       "1            104.30                  116.19           195.06   \n",
       "\n",
       "   purchasing_power  health_care  property_price_to_income_ratio  \\\n",
       "0               NaN          NaN                             NaN   \n",
       "1            116.19        75.32                            8.86   \n",
       "\n",
       "   traffic_commute_time  pollution  climate  avg_salary(usd)  safety  \\\n",
       "0                   NaN        NaN      NaN              NaN     NaN   \n",
       "1                 28.37      19.39    79.56          5979.26   77.88   \n",
       "\n",
       "  sys_updated_date sys_updated_by  \n",
       "0       2022-07-17     analyst_k2  \n",
       "1       2022-07-17     analyst_k2  "
      ]
     },
     "execution_count": 30,
     "metadata": {},
     "output_type": "execute_result"
    }
   ],
   "source": [
    "df_country_index['country_code'] = df_country_index.apply(lambda row: coco.convert(names=row.country, to='ISO3') , axis = 1)\n",
    "df_country_index = df_country_index.reindex(columns=['country_code'] + list(df_country_index.columns[1:-1]))\n",
    "df_country_index.head(2)"
   ]
  },
  {
   "cell_type": "code",
   "execution_count": 31,
   "metadata": {},
   "outputs": [],
   "source": [
    "df_country_index.to_sql('numbeo_indexes_by_country', engine, if_exists='append', index=False)\n",
    "with engine.connect() as con:\n",
    "    con.execute(\"\"\"ALTER TABLE numbeo_indexes_by_country ADD CONSTRAINT FK_country_code FOREIGN KEY (country_code) REFERENCES public.countries (country_code);\"\"\")"
   ]
  },
  {
   "cell_type": "markdown",
   "metadata": {},
   "source": [
    "# Legatum Prosperity Index 2021 to Data Base"
   ]
  },
  {
   "cell_type": "code",
   "execution_count": 32,
   "metadata": {},
   "outputs": [],
   "source": [
    "df_prosperity = pd.read_csv('./scripts/data/2021_Full_Data_Set_-_Legatum_Prosperity_Index.csv', sep=';').iloc[:, 1:]\n",
    "df_prosperity.rename(columns={'area_code': 'country_code'}, inplace=True)\n",
    "df_prosperity.to_sql('legatum_indexes', engine, if_exists='append', index=False)\n",
    "with engine.connect() as con:\n",
    "    con.execute(\"\"\"ALTER TABLE legatum_indexes ADD CONSTRAINT FK_country_code FOREIGN KEY (country_code) REFERENCES public.countries (country_code);\"\"\")"
   ]
  }
 ],
 "metadata": {
  "interpreter": {
   "hash": "215f6ffd912e484aecedcbe69ead8fcc91bb6fb306f5595349f9df64c4c4bf6b"
  },
  "kernelspec": {
   "display_name": "Python 3 (ipykernel)",
   "language": "python",
   "name": "python3"
  },
  "orig_nbformat": 4
 },
 "nbformat": 4,
 "nbformat_minor": 2
}
