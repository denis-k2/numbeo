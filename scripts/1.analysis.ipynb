{
 "cells": [
  {
   "cell_type": "code",
   "execution_count": 1,
   "metadata": {},
   "outputs": [],
   "source": [
    "import pandas as pd\n",
    "import requests\n",
    "import country_converter as coco\n",
    "from bs4 import BeautifulSoup\n",
    "import folium\n",
    "from sqlalchemy import create_engine\n",
    "from os import getenv\n",
    "from datetime import date"
   ]
  },
  {
   "cell_type": "code",
   "execution_count": 2,
   "metadata": {},
   "outputs": [],
   "source": [
    "engine = create_engine(getenv('POSTGRES_CONN'))"
   ]
  },
  {
   "cell_type": "markdown",
   "metadata": {},
   "source": [
    "# Достану из википедии и сохраню в БД таблицы кодов стран и штатов США.\n",
    "И сделаю эти коды первичными ключами."
   ]
  },
  {
   "cell_type": "markdown",
   "metadata": {},
   "source": [
    "### Таблица всех стран и кодов Alpha 3"
   ]
  },
  {
   "cell_type": "code",
   "execution_count": 3,
   "metadata": {},
   "outputs": [
    {
     "data": {
      "text/html": [
       "<div>\n",
       "<style scoped>\n",
       "    .dataframe tbody tr th:only-of-type {\n",
       "        vertical-align: middle;\n",
       "    }\n",
       "\n",
       "    .dataframe tbody tr th {\n",
       "        vertical-align: top;\n",
       "    }\n",
       "\n",
       "    .dataframe thead th {\n",
       "        text-align: right;\n",
       "    }\n",
       "</style>\n",
       "<table border=\"1\" class=\"dataframe\">\n",
       "  <thead>\n",
       "    <tr style=\"text-align: right;\">\n",
       "      <th></th>\n",
       "      <th>country_code</th>\n",
       "      <th>country</th>\n",
       "      <th>independent</th>\n",
       "    </tr>\n",
       "  </thead>\n",
       "  <tbody>\n",
       "    <tr>\n",
       "      <th>0</th>\n",
       "      <td>AFG</td>\n",
       "      <td>Afghanistan</td>\n",
       "      <td>Yes</td>\n",
       "    </tr>\n",
       "    <tr>\n",
       "      <th>1</th>\n",
       "      <td>ALA</td>\n",
       "      <td>Åland Islands</td>\n",
       "      <td>No</td>\n",
       "    </tr>\n",
       "  </tbody>\n",
       "</table>\n",
       "</div>"
      ],
      "text/plain": [
       "  country_code        country independent\n",
       "0          AFG    Afghanistan         Yes\n",
       "1          ALA  Åland Islands          No"
      ]
     },
     "execution_count": 3,
     "metadata": {},
     "output_type": "execute_result"
    }
   ],
   "source": [
    "url_countries = 'https://en.wikipedia.org/wiki/ISO_3166-1'\n",
    "\n",
    "df_countries = pd.read_html(url_countries)[1]\n",
    "df_countries.rename(columns={'English short name (using title case)': 'country', \n",
    "                             'Alpha-3 code': 'country_code', \n",
    "                             'Independent': 'independent'}, inplace=True)\n",
    "df_countries = df_countries.iloc[:, [2, 0, 5]]\n",
    "for country_code, row in df_countries.iterrows():\n",
    "    if country_code != 'VGB' and country_code != 'VIR':\n",
    "        row['country'] = row['country'].strip('\"')\n",
    "        row['country'] = row['country'].split(' (')[0]\n",
    "        row['country'] = row['country'].split('[')[0]\n",
    "        row['country'] = row['country'].split(',')[0]\n",
    "\n",
    "df_countries.head(2)"
   ]
  },
  {
   "cell_type": "code",
   "execution_count": 4,
   "metadata": {},
   "outputs": [],
   "source": [
    "df_countries.to_sql('countries', engine, index=False)\n",
    "with engine.connect() as con:\n",
    "    con.execute(\"\"\"ALTER TABLE countries ADD CONSTRAINT PK_country_code PRIMARY KEY (country_code);\"\"\")"
   ]
  },
  {
   "cell_type": "markdown",
   "metadata": {},
   "source": [
    "### Таблица всех штатов США в формате ISO"
   ]
  },
  {
   "cell_type": "code",
   "execution_count": 5,
   "metadata": {},
   "outputs": [
    {
     "data": {
      "text/html": [
       "<div>\n",
       "<style scoped>\n",
       "    .dataframe tbody tr th:only-of-type {\n",
       "        vertical-align: middle;\n",
       "    }\n",
       "\n",
       "    .dataframe tbody tr th {\n",
       "        vertical-align: top;\n",
       "    }\n",
       "\n",
       "    .dataframe thead th {\n",
       "        text-align: right;\n",
       "    }\n",
       "</style>\n",
       "<table border=\"1\" class=\"dataframe\">\n",
       "  <thead>\n",
       "    <tr style=\"text-align: right;\">\n",
       "      <th></th>\n",
       "      <th>state_code</th>\n",
       "      <th>state_name</th>\n",
       "      <th>category</th>\n",
       "    </tr>\n",
       "  </thead>\n",
       "  <tbody>\n",
       "    <tr>\n",
       "      <th>0</th>\n",
       "      <td>US-AL</td>\n",
       "      <td>Alabama</td>\n",
       "      <td>State</td>\n",
       "    </tr>\n",
       "    <tr>\n",
       "      <th>1</th>\n",
       "      <td>US-AK</td>\n",
       "      <td>Alaska</td>\n",
       "      <td>State</td>\n",
       "    </tr>\n",
       "  </tbody>\n",
       "</table>\n",
       "</div>"
      ],
      "text/plain": [
       "  state_code state_name category\n",
       "0      US-AL    Alabama    State\n",
       "1      US-AK     Alaska    State"
      ]
     },
     "execution_count": 5,
     "metadata": {},
     "output_type": "execute_result"
    }
   ],
   "source": [
    "url_states = 'https://en.wikipedia.org/wiki/ISO_3166-2:US'\n",
    "df_states = pd.read_html(url_states)[0]\n",
    "df_states.columns = ['state_code', 'state_name', 'category']\n",
    "df_states.head(2)"
   ]
  },
  {
   "cell_type": "code",
   "execution_count": 6,
   "metadata": {},
   "outputs": [],
   "source": [
    "df_states.to_sql('states', engine, index=False)\n",
    "with engine.connect() as con:\n",
    "    con.execute(\"\"\"ALTER TABLE states ADD CONSTRAINT PK_state_code PRIMARY KEY (state_code);\"\"\")"
   ]
  },
  {
   "cell_type": "markdown",
   "metadata": {},
   "source": [
    "# Numbeo. Анализ и скрапинг городов и их индексов."
   ]
  },
  {
   "cell_type": "markdown",
   "metadata": {},
   "source": [
    "За основу беру таблицу Numbeo \"Current Cost of Living Index\", в которой на данный момент 506 городов и, пока, не понятно сколько стран и по сколько городов в этих странах."
   ]
  },
  {
   "cell_type": "code",
   "execution_count": 7,
   "metadata": {},
   "outputs": [
    {
     "data": {
      "text/html": [
       "<div>\n",
       "<style scoped>\n",
       "    .dataframe tbody tr th:only-of-type {\n",
       "        vertical-align: middle;\n",
       "    }\n",
       "\n",
       "    .dataframe tbody tr th {\n",
       "        vertical-align: top;\n",
       "    }\n",
       "\n",
       "    .dataframe thead th {\n",
       "        text-align: right;\n",
       "    }\n",
       "</style>\n",
       "<table border=\"1\" class=\"dataframe\">\n",
       "  <thead>\n",
       "    <tr style=\"text-align: right;\">\n",
       "      <th></th>\n",
       "      <th>Rank</th>\n",
       "      <th>City</th>\n",
       "      <th>Cost of Living Index</th>\n",
       "      <th>Rent Index</th>\n",
       "      <th>Cost of Living Plus Rent Index</th>\n",
       "      <th>Groceries Index</th>\n",
       "      <th>Restaurant Price Index</th>\n",
       "      <th>Local Purchasing Power Index</th>\n",
       "    </tr>\n",
       "  </thead>\n",
       "  <tbody>\n",
       "    <tr>\n",
       "      <th>0</th>\n",
       "      <td>NaN</td>\n",
       "      <td>Hamilton, Bermuda</td>\n",
       "      <td>163.04</td>\n",
       "      <td>105.83</td>\n",
       "      <td>135.98</td>\n",
       "      <td>167.42</td>\n",
       "      <td>156.39</td>\n",
       "      <td>88.45</td>\n",
       "    </tr>\n",
       "    <tr>\n",
       "      <th>1</th>\n",
       "      <td>NaN</td>\n",
       "      <td>Zurich, Switzerland</td>\n",
       "      <td>120.44</td>\n",
       "      <td>61.92</td>\n",
       "      <td>92.76</td>\n",
       "      <td>122.01</td>\n",
       "      <td>114.80</td>\n",
       "      <td>117.16</td>\n",
       "    </tr>\n",
       "  </tbody>\n",
       "</table>\n",
       "</div>"
      ],
      "text/plain": [
       "   Rank                 City  Cost of Living Index  Rent Index  \\\n",
       "0   NaN    Hamilton, Bermuda                163.04      105.83   \n",
       "1   NaN  Zurich, Switzerland                120.44       61.92   \n",
       "\n",
       "   Cost of Living Plus Rent Index  Groceries Index  Restaurant Price Index  \\\n",
       "0                          135.98           167.42                  156.39   \n",
       "1                           92.76           122.01                  114.80   \n",
       "\n",
       "   Local Purchasing Power Index  \n",
       "0                         88.45  \n",
       "1                        117.16  "
      ]
     },
     "execution_count": 7,
     "metadata": {},
     "output_type": "execute_result"
    }
   ],
   "source": [
    "url = 'https://www.numbeo.com/cost-of-living/rankings_current.jsp'\n",
    "df = pd.read_html(url)[1]\n",
    "df.head(2)"
   ]
  },
  {
   "cell_type": "markdown",
   "metadata": {},
   "source": [
    "Добавляю другие интексы Numbeo относящиеся к городам. В разных таблицах индексы дублируются, но охватывают разное количество городов. Выбираю те, в которых больше городов."
   ]
  },
  {
   "cell_type": "code",
   "execution_count": 8,
   "metadata": {},
   "outputs": [],
   "source": [
    "indexes_dict = {\n",
    "    'https://www.numbeo.com/quality-of-life/rankings_current.jsp': \n",
    "        ['City',\n",
    "         'Quality of Life Index',\n",
    "         'Property Price to Income Ratio',\n",
    "         'Traffic Commute Time Index',\n",
    "         'Climate Index'],\n",
    "    'https://www.numbeo.com/crime/rankings_current.jsp': ['City', 'Safety Index'],\n",
    "    'https://www.numbeo.com/health-care/rankings_current.jsp': ['City', 'Health Care Index'],\n",
    "    'https://www.numbeo.com/pollution/rankings_current.jsp': ['City', 'Pollution Index']\n",
    "}"
   ]
  },
  {
   "cell_type": "code",
   "execution_count": 9,
   "metadata": {},
   "outputs": [],
   "source": [
    "for key, value in indexes_dict.items():\n",
    "    df_temp = pd.read_html(key)[1][value]\n",
    "    df = df.merge(df_temp, how='left', on='City')\n",
    "    \n",
    "df.drop(['Rank', 'Restaurant Price Index'], axis=1, inplace=True)\n",
    "df.columns = list(map(lambda x: x.removesuffix(' Index').lower().replace(' ', '_'), df.columns))\n",
    "df.rename(columns={'city': 'city_country'}, inplace=True)\n",
    "#df.head(3)"
   ]
  },
  {
   "cell_type": "markdown",
   "metadata": {},
   "source": [
    "Добавляю в таблицу ссылки на страницы данных городов со строгим указанием валюты USD"
   ]
  },
  {
   "cell_type": "code",
   "execution_count": 10,
   "metadata": {},
   "outputs": [],
   "source": [
    "response = requests.get(url).text\n",
    "soup = BeautifulSoup(response, 'lxml')\n",
    "links = soup.find_all('td', class_='cityOrCountryInIndicesTable')\n",
    "\n",
    "href_list = []\n",
    "for i in links:\n",
    "    href_list.append([i.find('a').text, i.find('a').get('href') + '?displayCurrency=USD'])\n",
    "    \n",
    "city_link = pd.DataFrame(href_list, columns=['city_country', 'link'])\n",
    "\n",
    "df = df.merge(city_link, how='left', on='city_country')"
   ]
  },
  {
   "cell_type": "markdown",
   "metadata": {},
   "source": [
    "### Разделить Город - Штат - Страна"
   ]
  },
  {
   "cell_type": "code",
   "execution_count": 11,
   "metadata": {},
   "outputs": [],
   "source": [
    "split_table1 = df['city_country'].str.rsplit(', ', n=1, expand=True)\n",
    "split_table1.columns=['city_state', 'country']\n",
    "\n",
    "split_table2 = split_table1['city_state'].str.split(', ', n=1, expand=True)\n",
    "split_table2.columns=['city', 'state_code']\n",
    "\n",
    "df = pd.concat([split_table2, split_table1['country'], df],axis=1)\n",
    "\n",
    "df['city'] = df.apply(lambda row: row.city.split(' (')[0], axis = 1) #убираю дубли городов в скобках\n",
    "\n",
    "#df.head()"
   ]
  },
  {
   "cell_type": "markdown",
   "metadata": {},
   "source": [
    "### Добавляю alpha_3 код к странам"
   ]
  },
  {
   "cell_type": "markdown",
   "metadata": {},
   "source": [
    "Сначала удалю Косово, тк у него нет alpha3-кода."
   ]
  },
  {
   "cell_type": "code",
   "execution_count": 12,
   "metadata": {},
   "outputs": [],
   "source": [
    "df = df.drop(df.loc[df['country'] == 'Kosovo (Disputed Territory)'].index)"
   ]
  },
  {
   "cell_type": "code",
   "execution_count": 13,
   "metadata": {},
   "outputs": [
    {
     "data": {
      "text/html": [
       "<div>\n",
       "<style scoped>\n",
       "    .dataframe tbody tr th:only-of-type {\n",
       "        vertical-align: middle;\n",
       "    }\n",
       "\n",
       "    .dataframe tbody tr th {\n",
       "        vertical-align: top;\n",
       "    }\n",
       "\n",
       "    .dataframe thead th {\n",
       "        text-align: right;\n",
       "    }\n",
       "</style>\n",
       "<table border=\"1\" class=\"dataframe\">\n",
       "  <thead>\n",
       "    <tr style=\"text-align: right;\">\n",
       "      <th></th>\n",
       "      <th>city</th>\n",
       "      <th>state_code</th>\n",
       "      <th>country</th>\n",
       "      <th>city_country</th>\n",
       "      <th>cost_of_living</th>\n",
       "      <th>rent</th>\n",
       "      <th>cost_of_living_plus_rent</th>\n",
       "      <th>groceries</th>\n",
       "      <th>local_purchasing_power</th>\n",
       "      <th>quality_of_life</th>\n",
       "      <th>property_price_to_income_ratio</th>\n",
       "      <th>traffic_commute_time</th>\n",
       "      <th>climate</th>\n",
       "      <th>safety</th>\n",
       "      <th>health_care</th>\n",
       "      <th>pollution</th>\n",
       "      <th>link</th>\n",
       "      <th>country_code</th>\n",
       "    </tr>\n",
       "  </thead>\n",
       "  <tbody>\n",
       "    <tr>\n",
       "      <th>0</th>\n",
       "      <td>Hamilton</td>\n",
       "      <td>None</td>\n",
       "      <td>Bermuda</td>\n",
       "      <td>Hamilton, Bermuda</td>\n",
       "      <td>163.04</td>\n",
       "      <td>105.83</td>\n",
       "      <td>135.98</td>\n",
       "      <td>167.42</td>\n",
       "      <td>88.45</td>\n",
       "      <td>NaN</td>\n",
       "      <td>NaN</td>\n",
       "      <td>NaN</td>\n",
       "      <td>NaN</td>\n",
       "      <td>NaN</td>\n",
       "      <td>NaN</td>\n",
       "      <td>NaN</td>\n",
       "      <td>https://www.numbeo.com/cost-of-living/in/Hamil...</td>\n",
       "      <td>BMU</td>\n",
       "    </tr>\n",
       "    <tr>\n",
       "      <th>1</th>\n",
       "      <td>Zurich</td>\n",
       "      <td>None</td>\n",
       "      <td>Switzerland</td>\n",
       "      <td>Zurich, Switzerland</td>\n",
       "      <td>120.44</td>\n",
       "      <td>61.92</td>\n",
       "      <td>92.76</td>\n",
       "      <td>122.01</td>\n",
       "      <td>117.16</td>\n",
       "      <td>195.15</td>\n",
       "      <td>10.06</td>\n",
       "      <td>32.62</td>\n",
       "      <td>81.48</td>\n",
       "      <td>82.64</td>\n",
       "      <td>74.84</td>\n",
       "      <td>17.58</td>\n",
       "      <td>https://www.numbeo.com/cost-of-living/in/Zuric...</td>\n",
       "      <td>CHE</td>\n",
       "    </tr>\n",
       "    <tr>\n",
       "      <th>2</th>\n",
       "      <td>Basel</td>\n",
       "      <td>None</td>\n",
       "      <td>Switzerland</td>\n",
       "      <td>Basel, Switzerland</td>\n",
       "      <td>119.65</td>\n",
       "      <td>45.21</td>\n",
       "      <td>84.44</td>\n",
       "      <td>126.05</td>\n",
       "      <td>108.89</td>\n",
       "      <td>195.80</td>\n",
       "      <td>8.23</td>\n",
       "      <td>20.79</td>\n",
       "      <td>82.82</td>\n",
       "      <td>79.89</td>\n",
       "      <td>NaN</td>\n",
       "      <td>NaN</td>\n",
       "      <td>https://www.numbeo.com/cost-of-living/in/Basel...</td>\n",
       "      <td>CHE</td>\n",
       "    </tr>\n",
       "  </tbody>\n",
       "</table>\n",
       "</div>"
      ],
      "text/plain": [
       "       city state_code      country         city_country  cost_of_living  \\\n",
       "0  Hamilton       None      Bermuda    Hamilton, Bermuda          163.04   \n",
       "1    Zurich       None  Switzerland  Zurich, Switzerland          120.44   \n",
       "2     Basel       None  Switzerland   Basel, Switzerland          119.65   \n",
       "\n",
       "     rent  cost_of_living_plus_rent  groceries  local_purchasing_power  \\\n",
       "0  105.83                    135.98     167.42                   88.45   \n",
       "1   61.92                     92.76     122.01                  117.16   \n",
       "2   45.21                     84.44     126.05                  108.89   \n",
       "\n",
       "   quality_of_life  property_price_to_income_ratio  traffic_commute_time  \\\n",
       "0              NaN                             NaN                   NaN   \n",
       "1           195.15                           10.06                 32.62   \n",
       "2           195.80                            8.23                 20.79   \n",
       "\n",
       "   climate  safety  health_care  pollution  \\\n",
       "0      NaN     NaN          NaN        NaN   \n",
       "1    81.48   82.64        74.84      17.58   \n",
       "2    82.82   79.89          NaN        NaN   \n",
       "\n",
       "                                                link country_code  \n",
       "0  https://www.numbeo.com/cost-of-living/in/Hamil...          BMU  \n",
       "1  https://www.numbeo.com/cost-of-living/in/Zuric...          CHE  \n",
       "2  https://www.numbeo.com/cost-of-living/in/Basel...          CHE  "
      ]
     },
     "execution_count": 13,
     "metadata": {},
     "output_type": "execute_result"
    }
   ],
   "source": [
    "new_df = pd.DataFrame({'country': df['country'].unique()})\n",
    "new_df['country_code'] = new_df.apply(lambda row: coco.convert(names=row.country, to='ISO3') , axis = 1)\n",
    "df = df.merge(new_df, how='left', on='country')\n",
    "\n",
    "#df['country_code'] = df.apply(lambda row: coco.convert(names=row.country, to='ISO3') , axis = 1) - можно в одну строчку, но дольше в 4 раза\n",
    "df.head(3)"
   ]
  },
  {
   "cell_type": "markdown",
   "metadata": {},
   "source": [
    "### Добавляю код к штатам USA\n",
    "Есть три значения штатов, не относящихся к штатам США.\n",
    "Всем этим значениям присвою знанчение None.\n",
    "А к штатам США добавлю \"US- \" - приведу к ISO стандарту обозначения штатов США."
   ]
  },
  {
   "cell_type": "code",
   "execution_count": 14,
   "metadata": {},
   "outputs": [
    {
     "data": {
      "text/html": [
       "<div>\n",
       "<style scoped>\n",
       "    .dataframe tbody tr th:only-of-type {\n",
       "        vertical-align: middle;\n",
       "    }\n",
       "\n",
       "    .dataframe tbody tr th {\n",
       "        vertical-align: top;\n",
       "    }\n",
       "\n",
       "    .dataframe thead th {\n",
       "        text-align: right;\n",
       "    }\n",
       "</style>\n",
       "<table border=\"1\" class=\"dataframe\">\n",
       "  <thead>\n",
       "    <tr style=\"text-align: right;\">\n",
       "      <th></th>\n",
       "      <th>city</th>\n",
       "      <th>state_code</th>\n",
       "      <th>country</th>\n",
       "      <th>city_country</th>\n",
       "      <th>cost_of_living</th>\n",
       "      <th>rent</th>\n",
       "      <th>cost_of_living_plus_rent</th>\n",
       "      <th>groceries</th>\n",
       "      <th>local_purchasing_power</th>\n",
       "      <th>quality_of_life</th>\n",
       "      <th>property_price_to_income_ratio</th>\n",
       "      <th>traffic_commute_time</th>\n",
       "      <th>climate</th>\n",
       "      <th>safety</th>\n",
       "      <th>health_care</th>\n",
       "      <th>pollution</th>\n",
       "      <th>link</th>\n",
       "      <th>country_code</th>\n",
       "    </tr>\n",
       "  </thead>\n",
       "  <tbody>\n",
       "    <tr>\n",
       "      <th>47</th>\n",
       "      <td>Nanaimo</td>\n",
       "      <td>BC</td>\n",
       "      <td>Canada</td>\n",
       "      <td>Nanaimo, BC, Canada</td>\n",
       "      <td>78.64</td>\n",
       "      <td>37.59</td>\n",
       "      <td>59.22</td>\n",
       "      <td>81.02</td>\n",
       "      <td>83.95</td>\n",
       "      <td>NaN</td>\n",
       "      <td>NaN</td>\n",
       "      <td>NaN</td>\n",
       "      <td>NaN</td>\n",
       "      <td>50.77</td>\n",
       "      <td>68.65</td>\n",
       "      <td>NaN</td>\n",
       "      <td>https://www.numbeo.com/cost-of-living/in/Nanai...</td>\n",
       "      <td>CAN</td>\n",
       "    </tr>\n",
       "    <tr>\n",
       "      <th>72</th>\n",
       "      <td>St. John's</td>\n",
       "      <td>Newfoundland and Labrador</td>\n",
       "      <td>Canada</td>\n",
       "      <td>St. John's, Newfoundland and Labrador, Canada</td>\n",
       "      <td>75.71</td>\n",
       "      <td>23.13</td>\n",
       "      <td>50.84</td>\n",
       "      <td>75.34</td>\n",
       "      <td>143.97</td>\n",
       "      <td>NaN</td>\n",
       "      <td>NaN</td>\n",
       "      <td>NaN</td>\n",
       "      <td>NaN</td>\n",
       "      <td>53.06</td>\n",
       "      <td>NaN</td>\n",
       "      <td>NaN</td>\n",
       "      <td>https://www.numbeo.com/cost-of-living/in/St-Jo...</td>\n",
       "      <td>CAN</td>\n",
       "    </tr>\n",
       "    <tr>\n",
       "      <th>449</th>\n",
       "      <td>Batumi</td>\n",
       "      <td>Ajara</td>\n",
       "      <td>Georgia</td>\n",
       "      <td>Batumi, Ajara, Georgia</td>\n",
       "      <td>32.15</td>\n",
       "      <td>12.93</td>\n",
       "      <td>23.06</td>\n",
       "      <td>31.83</td>\n",
       "      <td>26.17</td>\n",
       "      <td>NaN</td>\n",
       "      <td>NaN</td>\n",
       "      <td>NaN</td>\n",
       "      <td>NaN</td>\n",
       "      <td>NaN</td>\n",
       "      <td>NaN</td>\n",
       "      <td>NaN</td>\n",
       "      <td>https://www.numbeo.com/cost-of-living/in/Batum...</td>\n",
       "      <td>GEO</td>\n",
       "    </tr>\n",
       "  </tbody>\n",
       "</table>\n",
       "</div>"
      ],
      "text/plain": [
       "           city                 state_code  country  \\\n",
       "47      Nanaimo                         BC   Canada   \n",
       "72   St. John's  Newfoundland and Labrador   Canada   \n",
       "449      Batumi                      Ajara  Georgia   \n",
       "\n",
       "                                      city_country  cost_of_living   rent  \\\n",
       "47                             Nanaimo, BC, Canada           78.64  37.59   \n",
       "72   St. John's, Newfoundland and Labrador, Canada           75.71  23.13   \n",
       "449                         Batumi, Ajara, Georgia           32.15  12.93   \n",
       "\n",
       "     cost_of_living_plus_rent  groceries  local_purchasing_power  \\\n",
       "47                      59.22      81.02                   83.95   \n",
       "72                      50.84      75.34                  143.97   \n",
       "449                     23.06      31.83                   26.17   \n",
       "\n",
       "     quality_of_life  property_price_to_income_ratio  traffic_commute_time  \\\n",
       "47               NaN                             NaN                   NaN   \n",
       "72               NaN                             NaN                   NaN   \n",
       "449              NaN                             NaN                   NaN   \n",
       "\n",
       "     climate  safety  health_care  pollution  \\\n",
       "47       NaN   50.77        68.65        NaN   \n",
       "72       NaN   53.06          NaN        NaN   \n",
       "449      NaN     NaN          NaN        NaN   \n",
       "\n",
       "                                                  link country_code  \n",
       "47   https://www.numbeo.com/cost-of-living/in/Nanai...          CAN  \n",
       "72   https://www.numbeo.com/cost-of-living/in/St-Jo...          CAN  \n",
       "449  https://www.numbeo.com/cost-of-living/in/Batum...          GEO  "
      ]
     },
     "execution_count": 14,
     "metadata": {},
     "output_type": "execute_result"
    }
   ],
   "source": [
    "df[df['state_code'].notnull() & (df['country'] != \"United States\")]"
   ]
  },
  {
   "cell_type": "code",
   "execution_count": 15,
   "metadata": {},
   "outputs": [],
   "source": [
    "indexes = df[df['state_code'].notnull() & (df['country'] != \"United States\")]['state_code'].index\n",
    "df.loc[indexes, 'state_code'] = None\n",
    "\n",
    "df['state_code'] = df.apply(lambda row: f\"US-{row['state_code']}\" if row['state_code'] != None else None, axis = 1)"
   ]
  },
  {
   "cell_type": "markdown",
   "metadata": {},
   "source": [
    "# Карта\n",
    "В индексе Numbeo 505 городов, но не понятно, какие страны, много их или мало. Сколько городов в этих странах и в каких пропорциях. Суммарные цифры мне мало что скажут, гораздо понятнее будет отобразить их на карте."
   ]
  },
  {
   "cell_type": "code",
   "execution_count": 16,
   "metadata": {},
   "outputs": [
    {
     "data": {
      "text/plain": [
       "<folium.features.Choropleth at 0x7fc6bd16b070>"
      ]
     },
     "execution_count": 16,
     "metadata": {},
     "output_type": "execute_result"
    }
   ],
   "source": [
    "map_df = df.groupby('country_code')['city'].nunique().reset_index().sort_values('city', ascending=False)\n",
    "\n",
    "m = folium.Map(location=[37.87820990704326, 6.555063556986549], zoom_start=1.5)\n",
    "folium.Choropleth(\n",
    "    geo_data='scripts/data/world.geojson',\n",
    "    name=\"choropleth\",\n",
    "    data=map_df,\n",
    "    columns=['country_code', 'city'],\n",
    "    key_on=\"feature.properties.ISO_A3\", \n",
    "    fill_color=\"YlGn\",\n",
    "    nan_fill_color='pink',\n",
    "    fill_opacity=0.8,\n",
    "    bins=7,\n",
    "    reset=True,\n",
    "    highlight=True,\n",
    "    legend_name='Count of cities'\n",
    ").add_to(m)"
   ]
  },
  {
   "cell_type": "code",
   "execution_count": 17,
   "metadata": {},
   "outputs": [],
   "source": [
    "#m - show interactive map by folium"
   ]
  },
  {
   "cell_type": "markdown",
   "metadata": {},
   "source": [
    "![title](./data/map.png)"
   ]
  },
  {
   "cell_type": "markdown",
   "metadata": {},
   "source": [
    "На github интерактивная карта не отображается, поэтому вместо вывода карты, вставил картинку.\n",
    "\n",
    "Теперь видно какие страны есть в индексе, а каких нет, и сколько городов в каждой стране. Меня всё устраивает, вот только мне не нужно в Индии так много городов. Удалю лишние (оставлю 2 города)."
   ]
  },
  {
   "cell_type": "code",
   "execution_count": 18,
   "metadata": {},
   "outputs": [],
   "source": [
    "india = df.loc[(df['country'] == 'India') & \n",
    "              (df['city'] != 'Delhi') & \n",
    "              (df['city'] !='Mumbai')]\n",
    "\n",
    "df = df.drop(india.index)"
   ]
  },
  {
   "cell_type": "markdown",
   "metadata": {},
   "source": [
    "Подготовлю индексы (Primary Key) для будущей таблицы в postgres, чтобы сразу можно было загрузить её в БД."
   ]
  },
  {
   "cell_type": "code",
   "execution_count": 19,
   "metadata": {},
   "outputs": [
    {
     "data": {
      "text/html": [
       "<div>\n",
       "<style scoped>\n",
       "    .dataframe tbody tr th:only-of-type {\n",
       "        vertical-align: middle;\n",
       "    }\n",
       "\n",
       "    .dataframe tbody tr th {\n",
       "        vertical-align: top;\n",
       "    }\n",
       "\n",
       "    .dataframe thead th {\n",
       "        text-align: right;\n",
       "    }\n",
       "</style>\n",
       "<table border=\"1\" class=\"dataframe\">\n",
       "  <thead>\n",
       "    <tr style=\"text-align: right;\">\n",
       "      <th></th>\n",
       "      <th>city_id</th>\n",
       "      <th>city</th>\n",
       "      <th>state_code</th>\n",
       "      <th>country</th>\n",
       "      <th>city_country</th>\n",
       "      <th>cost_of_living</th>\n",
       "      <th>rent</th>\n",
       "      <th>cost_of_living_plus_rent</th>\n",
       "      <th>groceries</th>\n",
       "      <th>local_purchasing_power</th>\n",
       "      <th>quality_of_life</th>\n",
       "      <th>property_price_to_income_ratio</th>\n",
       "      <th>traffic_commute_time</th>\n",
       "      <th>climate</th>\n",
       "      <th>safety</th>\n",
       "      <th>health_care</th>\n",
       "      <th>pollution</th>\n",
       "      <th>link</th>\n",
       "      <th>country_code</th>\n",
       "    </tr>\n",
       "  </thead>\n",
       "  <tbody>\n",
       "    <tr>\n",
       "      <th>0</th>\n",
       "      <td>1</td>\n",
       "      <td>Hamilton</td>\n",
       "      <td>None</td>\n",
       "      <td>Bermuda</td>\n",
       "      <td>Hamilton, Bermuda</td>\n",
       "      <td>163.04</td>\n",
       "      <td>105.83</td>\n",
       "      <td>135.98</td>\n",
       "      <td>167.42</td>\n",
       "      <td>88.45</td>\n",
       "      <td>NaN</td>\n",
       "      <td>NaN</td>\n",
       "      <td>NaN</td>\n",
       "      <td>NaN</td>\n",
       "      <td>NaN</td>\n",
       "      <td>NaN</td>\n",
       "      <td>NaN</td>\n",
       "      <td>https://www.numbeo.com/cost-of-living/in/Hamil...</td>\n",
       "      <td>BMU</td>\n",
       "    </tr>\n",
       "    <tr>\n",
       "      <th>1</th>\n",
       "      <td>2</td>\n",
       "      <td>Zurich</td>\n",
       "      <td>None</td>\n",
       "      <td>Switzerland</td>\n",
       "      <td>Zurich, Switzerland</td>\n",
       "      <td>120.44</td>\n",
       "      <td>61.92</td>\n",
       "      <td>92.76</td>\n",
       "      <td>122.01</td>\n",
       "      <td>117.16</td>\n",
       "      <td>195.15</td>\n",
       "      <td>10.06</td>\n",
       "      <td>32.62</td>\n",
       "      <td>81.48</td>\n",
       "      <td>82.64</td>\n",
       "      <td>74.84</td>\n",
       "      <td>17.58</td>\n",
       "      <td>https://www.numbeo.com/cost-of-living/in/Zuric...</td>\n",
       "      <td>CHE</td>\n",
       "    </tr>\n",
       "    <tr>\n",
       "      <th>2</th>\n",
       "      <td>3</td>\n",
       "      <td>Basel</td>\n",
       "      <td>None</td>\n",
       "      <td>Switzerland</td>\n",
       "      <td>Basel, Switzerland</td>\n",
       "      <td>119.65</td>\n",
       "      <td>45.21</td>\n",
       "      <td>84.44</td>\n",
       "      <td>126.05</td>\n",
       "      <td>108.89</td>\n",
       "      <td>195.80</td>\n",
       "      <td>8.23</td>\n",
       "      <td>20.79</td>\n",
       "      <td>82.82</td>\n",
       "      <td>79.89</td>\n",
       "      <td>NaN</td>\n",
       "      <td>NaN</td>\n",
       "      <td>https://www.numbeo.com/cost-of-living/in/Basel...</td>\n",
       "      <td>CHE</td>\n",
       "    </tr>\n",
       "  </tbody>\n",
       "</table>\n",
       "</div>"
      ],
      "text/plain": [
       "   city_id      city state_code      country         city_country  \\\n",
       "0        1  Hamilton       None      Bermuda    Hamilton, Bermuda   \n",
       "1        2    Zurich       None  Switzerland  Zurich, Switzerland   \n",
       "2        3     Basel       None  Switzerland   Basel, Switzerland   \n",
       "\n",
       "   cost_of_living    rent  cost_of_living_plus_rent  groceries  \\\n",
       "0          163.04  105.83                    135.98     167.42   \n",
       "1          120.44   61.92                     92.76     122.01   \n",
       "2          119.65   45.21                     84.44     126.05   \n",
       "\n",
       "   local_purchasing_power  quality_of_life  property_price_to_income_ratio  \\\n",
       "0                   88.45              NaN                             NaN   \n",
       "1                  117.16           195.15                           10.06   \n",
       "2                  108.89           195.80                            8.23   \n",
       "\n",
       "   traffic_commute_time  climate  safety  health_care  pollution  \\\n",
       "0                   NaN      NaN     NaN          NaN        NaN   \n",
       "1                 32.62    81.48   82.64        74.84      17.58   \n",
       "2                 20.79    82.82   79.89          NaN        NaN   \n",
       "\n",
       "                                                link country_code  \n",
       "0  https://www.numbeo.com/cost-of-living/in/Hamil...          BMU  \n",
       "1  https://www.numbeo.com/cost-of-living/in/Zuric...          CHE  \n",
       "2  https://www.numbeo.com/cost-of-living/in/Basel...          CHE  "
      ]
     },
     "execution_count": 19,
     "metadata": {},
     "output_type": "execute_result"
    }
   ],
   "source": [
    "df.reset_index(drop=True, inplace=True)\n",
    "df.insert(0, 'city_id', df.index +1)\n",
    "df.head(3)"
   ]
  },
  {
   "cell_type": "markdown",
   "metadata": {},
   "source": [
    "Добавляю в таблицу 'state_name' из БД. И сохраняю с нужными колонками и Primary Keys в индексе для скрапинга в файл."
   ]
  },
  {
   "cell_type": "code",
   "execution_count": 20,
   "metadata": {},
   "outputs": [],
   "source": [
    "states_tbl = pd.read_sql('states', engine).loc[:, ['state_code', 'state_name']]\n",
    "df = df.merge(states_tbl, on='state_code', how='left')\n",
    "df_to_file = df.iloc[:, [0, 1, 2, -1, 3, -2, 4, -3]].copy()\n",
    "df_to_file.set_index('city_id', inplace=True)\n",
    "df_to_file.to_pickle(\"./scripts/data/numbeo_links.pkl\")"
   ]
  },
  {
   "cell_type": "markdown",
   "metadata": {},
   "source": [
    "Формирую и загружаю в БД таблицу городов с информацией о том кем добавлены данные в таблицу и назначаю ключи"
   ]
  },
  {
   "cell_type": "code",
   "execution_count": 21,
   "metadata": {},
   "outputs": [],
   "source": [
    "df_cities = df.iloc[:, [0, 1, 2, -2]].copy()\n",
    "df_cities.to_sql('cities', engine, if_exists='append', index=False)\n",
    "with engine.connect() as con:\n",
    "    con.execute(\"\"\"ALTER TABLE cities ADD CONSTRAINT PK_city_id PRIMARY KEY (city_id);\n",
    "                ALTER TABLE cities ADD CONSTRAINT FK_country_code FOREIGN KEY (country_code) REFERENCES public.countries (country_code);\n",
    "                ALTER TABLE cities ADD CONSTRAINT FK_state_code FOREIGN KEY (state_code) REFERENCES public.states (state_code);\"\"\")"
   ]
  },
  {
   "cell_type": "markdown",
   "metadata": {},
   "source": [
    "# Формирую таблицу Индексов намбео по городам + загрузка в БД"
   ]
  },
  {
   "cell_type": "code",
   "execution_count": 22,
   "metadata": {},
   "outputs": [
    {
     "data": {
      "text/html": [
       "<div>\n",
       "<style scoped>\n",
       "    .dataframe tbody tr th:only-of-type {\n",
       "        vertical-align: middle;\n",
       "    }\n",
       "\n",
       "    .dataframe tbody tr th {\n",
       "        vertical-align: top;\n",
       "    }\n",
       "\n",
       "    .dataframe thead th {\n",
       "        text-align: right;\n",
       "    }\n",
       "</style>\n",
       "<table border=\"1\" class=\"dataframe\">\n",
       "  <thead>\n",
       "    <tr style=\"text-align: right;\">\n",
       "      <th></th>\n",
       "      <th>city_id</th>\n",
       "      <th>cost_of_living</th>\n",
       "      <th>rent</th>\n",
       "      <th>cost_of_living_plus_rent</th>\n",
       "      <th>groceries</th>\n",
       "      <th>local_purchasing_power</th>\n",
       "      <th>quality_of_life</th>\n",
       "      <th>property_price_to_income_ratio</th>\n",
       "      <th>traffic_commute_time</th>\n",
       "      <th>climate</th>\n",
       "      <th>safety</th>\n",
       "      <th>health_care</th>\n",
       "      <th>pollution</th>\n",
       "      <th>sys_updated_date</th>\n",
       "      <th>sys_updated_by</th>\n",
       "    </tr>\n",
       "  </thead>\n",
       "  <tbody>\n",
       "    <tr>\n",
       "      <th>0</th>\n",
       "      <td>1</td>\n",
       "      <td>163.04</td>\n",
       "      <td>105.83</td>\n",
       "      <td>135.98</td>\n",
       "      <td>167.42</td>\n",
       "      <td>88.45</td>\n",
       "      <td>NaN</td>\n",
       "      <td>NaN</td>\n",
       "      <td>NaN</td>\n",
       "      <td>NaN</td>\n",
       "      <td>NaN</td>\n",
       "      <td>NaN</td>\n",
       "      <td>NaN</td>\n",
       "      <td>2022-06-17</td>\n",
       "      <td>analyst_k2</td>\n",
       "    </tr>\n",
       "    <tr>\n",
       "      <th>1</th>\n",
       "      <td>2</td>\n",
       "      <td>120.44</td>\n",
       "      <td>61.92</td>\n",
       "      <td>92.76</td>\n",
       "      <td>122.01</td>\n",
       "      <td>117.16</td>\n",
       "      <td>195.15</td>\n",
       "      <td>10.06</td>\n",
       "      <td>32.62</td>\n",
       "      <td>81.48</td>\n",
       "      <td>82.64</td>\n",
       "      <td>74.84</td>\n",
       "      <td>17.58</td>\n",
       "      <td>2022-06-17</td>\n",
       "      <td>analyst_k2</td>\n",
       "    </tr>\n",
       "  </tbody>\n",
       "</table>\n",
       "</div>"
      ],
      "text/plain": [
       "   city_id  cost_of_living    rent  cost_of_living_plus_rent  groceries  \\\n",
       "0        1          163.04  105.83                    135.98     167.42   \n",
       "1        2          120.44   61.92                     92.76     122.01   \n",
       "\n",
       "   local_purchasing_power  quality_of_life  property_price_to_income_ratio  \\\n",
       "0                   88.45              NaN                             NaN   \n",
       "1                  117.16           195.15                           10.06   \n",
       "\n",
       "   traffic_commute_time  climate  safety  health_care  pollution  \\\n",
       "0                   NaN      NaN     NaN          NaN        NaN   \n",
       "1                 32.62    81.48   82.64        74.84      17.58   \n",
       "\n",
       "  sys_updated_date sys_updated_by  \n",
       "0       2022-06-17     analyst_k2  \n",
       "1       2022-06-17     analyst_k2  "
      ]
     },
     "execution_count": 22,
     "metadata": {},
     "output_type": "execute_result"
    }
   ],
   "source": [
    "df_city_index = df.iloc[:, [0] + list(range(5,17))].copy()\n",
    "# добавляю столбцы когда и кем добавлены данные в таблицу\n",
    "df_city_index.loc[:, ('sys_updated_date', 'sys_updated_by')] = (date.today(), getenv('NB_USER'))\n",
    "df_city_index.head(2)"
   ]
  },
  {
   "cell_type": "code",
   "execution_count": 23,
   "metadata": {},
   "outputs": [],
   "source": [
    "df_city_index.to_sql('numbeo_indexes_by_city', engine, index=False)\n",
    "with engine.connect() as con:\n",
    "    con.execute(\"\"\"ALTER TABLE numbeo_indexes_by_city ADD CONSTRAINT FK_numbeo_indexes_by_city FOREIGN KEY (city_id) REFERENCES public.cities (city_id);\"\"\")"
   ]
  },
  {
   "cell_type": "markdown",
   "metadata": {},
   "source": [
    "# Формирую таблицу Индексов намбео по странам + загрузка в БД"
   ]
  },
  {
   "cell_type": "markdown",
   "metadata": {},
   "source": [
    "#### From Cost of Living Index by Country 2022"
   ]
  },
  {
   "cell_type": "code",
   "execution_count": 24,
   "metadata": {},
   "outputs": [],
   "source": [
    "df_col_index = pd.read_html('https://www.numbeo.com/cost-of-living/rankings_by_country.jsp')[1]\n",
    "df_col_index.drop('Rank', axis=1, inplace=True)\n",
    "df_col_index.columns = list(map(lambda x: x.removesuffix(' Index').lower().replace(' ', '_'), df_col_index.columns))"
   ]
  },
  {
   "cell_type": "markdown",
   "metadata": {},
   "source": [
    "#### From Quality of Life Index by Country"
   ]
  },
  {
   "cell_type": "code",
   "execution_count": 25,
   "metadata": {},
   "outputs": [],
   "source": [
    "df_qol_index = pd.read_html('https://www.numbeo.com/quality-of-life/rankings_by_country.jsp')[1]\n",
    "df_qol_index.drop(['Rank', 'Cost of Living Index', 'Safety Index'], axis=1, inplace=True)\n",
    "df_qol_index.columns = list(map(lambda x: x.removesuffix(' Index').lower().replace(' ', '_'), df_qol_index.columns))"
   ]
  },
  {
   "cell_type": "markdown",
   "metadata": {},
   "source": [
    "#### From Average Monthly Net Salary by Country"
   ]
  },
  {
   "cell_type": "code",
   "execution_count": 26,
   "metadata": {},
   "outputs": [],
   "source": [
    "df_salary_index = pd.read_html('https://www.numbeo.com/cost-of-living/country_price_rankings?itemId=105')[1]\n",
    "df_salary_index.drop([0, 2], axis=1, inplace=True)\n",
    "df_salary_index[3] = df_salary_index[3].apply(lambda row: float(row.rstrip('\\xa0$').replace(',', '')))\n",
    "df_salary_index.rename(columns={1: 'country', 3: 'avg_salary(usd)'}, inplace=True)"
   ]
  },
  {
   "cell_type": "markdown",
   "metadata": {},
   "source": [
    "#### From Crime Index by Country"
   ]
  },
  {
   "cell_type": "code",
   "execution_count": 27,
   "metadata": {},
   "outputs": [],
   "source": [
    "df_safety_index = pd.read_html('https://www.numbeo.com/crime/rankings_by_country.jsp')[1]\n",
    "df_safety_index = df_safety_index[['Country', 'Safety Index']]\n",
    "df_safety_index.columns=['country', 'safety']"
   ]
  },
  {
   "cell_type": "markdown",
   "metadata": {},
   "source": [
    "#### Merge 4 Country Tables"
   ]
  },
  {
   "cell_type": "code",
   "execution_count": 28,
   "metadata": {},
   "outputs": [],
   "source": [
    "df_country_index = df_col_index.merge(df_qol_index, how='left', on='country')\n",
    "df_country_index = df_country_index.merge(df_salary_index, how='left', on='country')\n",
    "df_country_index = df_country_index.merge(df_safety_index, how='left', on='country')\n",
    "# добавляю столбцы когда и кем добавлены данные в таблицу\n",
    "df_country_index.loc[:, ('sys_updated_date', 'sys_updated_by')] = (date.today(), getenv('NB_USER'))"
   ]
  },
  {
   "cell_type": "markdown",
   "metadata": {},
   "source": [
    "Удаляю Косово"
   ]
  },
  {
   "cell_type": "code",
   "execution_count": 29,
   "metadata": {},
   "outputs": [],
   "source": [
    "df_country_index = df_country_index.drop(df_country_index.loc[df_country_index['country'] == 'Kosovo (Disputed Territory)'].index)"
   ]
  },
  {
   "cell_type": "code",
   "execution_count": 30,
   "metadata": {},
   "outputs": [
    {
     "data": {
      "text/html": [
       "<div>\n",
       "<style scoped>\n",
       "    .dataframe tbody tr th:only-of-type {\n",
       "        vertical-align: middle;\n",
       "    }\n",
       "\n",
       "    .dataframe tbody tr th {\n",
       "        vertical-align: top;\n",
       "    }\n",
       "\n",
       "    .dataframe thead th {\n",
       "        text-align: right;\n",
       "    }\n",
       "</style>\n",
       "<table border=\"1\" class=\"dataframe\">\n",
       "  <thead>\n",
       "    <tr style=\"text-align: right;\">\n",
       "      <th></th>\n",
       "      <th>country_code</th>\n",
       "      <th>cost_of_living</th>\n",
       "      <th>rent</th>\n",
       "      <th>cost_of_living_plus_rent</th>\n",
       "      <th>groceries</th>\n",
       "      <th>restaurant_price</th>\n",
       "      <th>local_purchasing_power</th>\n",
       "      <th>quality_of_life</th>\n",
       "      <th>purchasing_power</th>\n",
       "      <th>health_care</th>\n",
       "      <th>property_price_to_income_ratio</th>\n",
       "      <th>traffic_commute_time</th>\n",
       "      <th>pollution</th>\n",
       "      <th>climate</th>\n",
       "      <th>avg_salary(usd)</th>\n",
       "      <th>safety</th>\n",
       "      <th>sys_updated_date</th>\n",
       "      <th>sys_updated_by</th>\n",
       "    </tr>\n",
       "  </thead>\n",
       "  <tbody>\n",
       "    <tr>\n",
       "      <th>0</th>\n",
       "      <td>BMU</td>\n",
       "      <td>146.04</td>\n",
       "      <td>98.58</td>\n",
       "      <td>123.80</td>\n",
       "      <td>148.66</td>\n",
       "      <td>159.17</td>\n",
       "      <td>81.07</td>\n",
       "      <td>NaN</td>\n",
       "      <td>NaN</td>\n",
       "      <td>NaN</td>\n",
       "      <td>NaN</td>\n",
       "      <td>NaN</td>\n",
       "      <td>NaN</td>\n",
       "      <td>NaN</td>\n",
       "      <td>NaN</td>\n",
       "      <td>NaN</td>\n",
       "      <td>2022-06-17</td>\n",
       "      <td>analyst_k2</td>\n",
       "    </tr>\n",
       "    <tr>\n",
       "      <th>1</th>\n",
       "      <td>CHE</td>\n",
       "      <td>123.35</td>\n",
       "      <td>53.54</td>\n",
       "      <td>90.62</td>\n",
       "      <td>128.13</td>\n",
       "      <td>122.09</td>\n",
       "      <td>118.44</td>\n",
       "      <td>195.27</td>\n",
       "      <td>118.44</td>\n",
       "      <td>74.85</td>\n",
       "      <td>8.29</td>\n",
       "      <td>28.5</td>\n",
       "      <td>19.59</td>\n",
       "      <td>80.21</td>\n",
       "      <td>5892.78</td>\n",
       "      <td>78.32</td>\n",
       "      <td>2022-06-17</td>\n",
       "      <td>analyst_k2</td>\n",
       "    </tr>\n",
       "  </tbody>\n",
       "</table>\n",
       "</div>"
      ],
      "text/plain": [
       "  country_code  cost_of_living   rent  cost_of_living_plus_rent  groceries  \\\n",
       "0          BMU          146.04  98.58                    123.80     148.66   \n",
       "1          CHE          123.35  53.54                     90.62     128.13   \n",
       "\n",
       "   restaurant_price  local_purchasing_power  quality_of_life  \\\n",
       "0            159.17                   81.07              NaN   \n",
       "1            122.09                  118.44           195.27   \n",
       "\n",
       "   purchasing_power  health_care  property_price_to_income_ratio  \\\n",
       "0               NaN          NaN                             NaN   \n",
       "1            118.44        74.85                            8.29   \n",
       "\n",
       "   traffic_commute_time  pollution  climate  avg_salary(usd)  safety  \\\n",
       "0                   NaN        NaN      NaN              NaN     NaN   \n",
       "1                  28.5      19.59    80.21          5892.78   78.32   \n",
       "\n",
       "  sys_updated_date sys_updated_by  \n",
       "0       2022-06-17     analyst_k2  \n",
       "1       2022-06-17     analyst_k2  "
      ]
     },
     "execution_count": 30,
     "metadata": {},
     "output_type": "execute_result"
    }
   ],
   "source": [
    "df_country_index['country_code'] = df_country_index.apply(lambda row: coco.convert(names=row.country, to='ISO3') , axis = 1)\n",
    "df_country_index = df_country_index.reindex(columns=['country_code'] + list(df_country_index.columns[1:-1]))\n",
    "df_country_index.head(2)"
   ]
  },
  {
   "cell_type": "code",
   "execution_count": 31,
   "metadata": {},
   "outputs": [],
   "source": [
    "df_country_index.to_sql('numbeo_indexes_by_country', engine, if_exists='append', index=False)\n",
    "with engine.connect() as con:\n",
    "    con.execute(\"\"\"ALTER TABLE numbeo_indexes_by_country ADD CONSTRAINT FK_country_code FOREIGN KEY (country_code) REFERENCES public.countries (country_code);\"\"\")"
   ]
  }
 ],
 "metadata": {
  "interpreter": {
   "hash": "215f6ffd912e484aecedcbe69ead8fcc91bb6fb306f5595349f9df64c4c4bf6b"
  },
  "kernelspec": {
   "display_name": "Python 3 (ipykernel)",
   "language": "python",
   "name": "python3"
  },
  "language_info": {
   "codemirror_mode": {
    "name": "ipython",
    "version": 3
   },
   "file_extension": ".py",
   "mimetype": "text/x-python",
   "name": "python",
   "nbconvert_exporter": "python",
   "pygments_lexer": "ipython3",
   "version": "3.10.4"
  },
  "orig_nbformat": 4
 },
 "nbformat": 4,
 "nbformat_minor": 2
}
